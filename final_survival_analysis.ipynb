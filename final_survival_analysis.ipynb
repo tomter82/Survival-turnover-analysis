{
 "cells": [
  {
   "cell_type": "code",
   "execution_count": 1,
   "metadata": {},
   "outputs": [],
   "source": [
    "import numpy as np # linear algebra\n",
    "import pandas as pd # data processing, CSV file I/O (e.g. pd.read_csv)\n",
    "import seaborn as sns\n",
    "import matplotlib.pyplot as plt\n",
    "from sksurv.preprocessing import OneHotEncoder"
   ]
  },
  {
   "cell_type": "code",
   "execution_count": 7,
   "metadata": {},
   "outputs": [
    {
     "data": {
      "text/html": [
       "<div>\n",
       "<style scoped>\n",
       "    .dataframe tbody tr th:only-of-type {\n",
       "        vertical-align: middle;\n",
       "    }\n",
       "\n",
       "    .dataframe tbody tr th {\n",
       "        vertical-align: top;\n",
       "    }\n",
       "\n",
       "    .dataframe thead th {\n",
       "        text-align: right;\n",
       "    }\n",
       "</style>\n",
       "<table border=\"1\" class=\"dataframe\">\n",
       "  <thead>\n",
       "    <tr style=\"text-align: right;\">\n",
       "      <th></th>\n",
       "      <th>stag</th>\n",
       "      <th>event</th>\n",
       "      <th>gender</th>\n",
       "      <th>age</th>\n",
       "      <th>industry</th>\n",
       "      <th>profession</th>\n",
       "      <th>traffic</th>\n",
       "      <th>coach</th>\n",
       "      <th>head_gender</th>\n",
       "      <th>greywage</th>\n",
       "      <th>way</th>\n",
       "      <th>extraversion</th>\n",
       "      <th>independ</th>\n",
       "      <th>selfcontrol</th>\n",
       "      <th>anxiety</th>\n",
       "      <th>novator</th>\n",
       "    </tr>\n",
       "  </thead>\n",
       "  <tbody>\n",
       "    <tr>\n",
       "      <th>0</th>\n",
       "      <td>7.030801</td>\n",
       "      <td>1</td>\n",
       "      <td>m</td>\n",
       "      <td>35.0</td>\n",
       "      <td>Banks</td>\n",
       "      <td>HR</td>\n",
       "      <td>rabrecNErab</td>\n",
       "      <td>no</td>\n",
       "      <td>f</td>\n",
       "      <td>white</td>\n",
       "      <td>bus</td>\n",
       "      <td>6.2</td>\n",
       "      <td>4.1</td>\n",
       "      <td>5.7</td>\n",
       "      <td>7.1</td>\n",
       "      <td>8.3</td>\n",
       "    </tr>\n",
       "    <tr>\n",
       "      <th>1</th>\n",
       "      <td>22.965092</td>\n",
       "      <td>1</td>\n",
       "      <td>m</td>\n",
       "      <td>33.0</td>\n",
       "      <td>Banks</td>\n",
       "      <td>HR</td>\n",
       "      <td>empjs</td>\n",
       "      <td>no</td>\n",
       "      <td>m</td>\n",
       "      <td>white</td>\n",
       "      <td>bus</td>\n",
       "      <td>6.2</td>\n",
       "      <td>4.1</td>\n",
       "      <td>5.7</td>\n",
       "      <td>7.1</td>\n",
       "      <td>8.3</td>\n",
       "    </tr>\n",
       "    <tr>\n",
       "      <th>2</th>\n",
       "      <td>15.934292</td>\n",
       "      <td>1</td>\n",
       "      <td>f</td>\n",
       "      <td>35.0</td>\n",
       "      <td>PowerGeneration</td>\n",
       "      <td>HR</td>\n",
       "      <td>rabrecNErab</td>\n",
       "      <td>no</td>\n",
       "      <td>m</td>\n",
       "      <td>white</td>\n",
       "      <td>bus</td>\n",
       "      <td>6.2</td>\n",
       "      <td>6.2</td>\n",
       "      <td>2.6</td>\n",
       "      <td>4.8</td>\n",
       "      <td>8.3</td>\n",
       "    </tr>\n",
       "    <tr>\n",
       "      <th>3</th>\n",
       "      <td>15.934292</td>\n",
       "      <td>1</td>\n",
       "      <td>f</td>\n",
       "      <td>35.0</td>\n",
       "      <td>PowerGeneration</td>\n",
       "      <td>HR</td>\n",
       "      <td>rabrecNErab</td>\n",
       "      <td>no</td>\n",
       "      <td>m</td>\n",
       "      <td>white</td>\n",
       "      <td>bus</td>\n",
       "      <td>5.4</td>\n",
       "      <td>7.6</td>\n",
       "      <td>4.9</td>\n",
       "      <td>2.5</td>\n",
       "      <td>6.7</td>\n",
       "    </tr>\n",
       "    <tr>\n",
       "      <th>4</th>\n",
       "      <td>8.410678</td>\n",
       "      <td>1</td>\n",
       "      <td>m</td>\n",
       "      <td>32.0</td>\n",
       "      <td>Retail</td>\n",
       "      <td>Commercial</td>\n",
       "      <td>youjs</td>\n",
       "      <td>yes</td>\n",
       "      <td>f</td>\n",
       "      <td>white</td>\n",
       "      <td>bus</td>\n",
       "      <td>3.0</td>\n",
       "      <td>4.1</td>\n",
       "      <td>8.0</td>\n",
       "      <td>7.1</td>\n",
       "      <td>3.7</td>\n",
       "    </tr>\n",
       "    <tr>\n",
       "      <th>...</th>\n",
       "      <td>...</td>\n",
       "      <td>...</td>\n",
       "      <td>...</td>\n",
       "      <td>...</td>\n",
       "      <td>...</td>\n",
       "      <td>...</td>\n",
       "      <td>...</td>\n",
       "      <td>...</td>\n",
       "      <td>...</td>\n",
       "      <td>...</td>\n",
       "      <td>...</td>\n",
       "      <td>...</td>\n",
       "      <td>...</td>\n",
       "      <td>...</td>\n",
       "      <td>...</td>\n",
       "      <td>...</td>\n",
       "    </tr>\n",
       "    <tr>\n",
       "      <th>1124</th>\n",
       "      <td>10.611910</td>\n",
       "      <td>0</td>\n",
       "      <td>f</td>\n",
       "      <td>41.0</td>\n",
       "      <td>Banks</td>\n",
       "      <td>HR</td>\n",
       "      <td>rabrecNErab</td>\n",
       "      <td>my head</td>\n",
       "      <td>m</td>\n",
       "      <td>white</td>\n",
       "      <td>bus</td>\n",
       "      <td>8.6</td>\n",
       "      <td>3.4</td>\n",
       "      <td>2.6</td>\n",
       "      <td>4.8</td>\n",
       "      <td>8.3</td>\n",
       "    </tr>\n",
       "    <tr>\n",
       "      <th>1125</th>\n",
       "      <td>10.611910</td>\n",
       "      <td>0</td>\n",
       "      <td>f</td>\n",
       "      <td>41.0</td>\n",
       "      <td>Banks</td>\n",
       "      <td>HR</td>\n",
       "      <td>rabrecNErab</td>\n",
       "      <td>my head</td>\n",
       "      <td>m</td>\n",
       "      <td>white</td>\n",
       "      <td>bus</td>\n",
       "      <td>8.6</td>\n",
       "      <td>3.4</td>\n",
       "      <td>2.6</td>\n",
       "      <td>4.8</td>\n",
       "      <td>8.3</td>\n",
       "    </tr>\n",
       "    <tr>\n",
       "      <th>1126</th>\n",
       "      <td>118.800821</td>\n",
       "      <td>0</td>\n",
       "      <td>f</td>\n",
       "      <td>34.0</td>\n",
       "      <td>Telecom</td>\n",
       "      <td>Accounting</td>\n",
       "      <td>KA</td>\n",
       "      <td>no</td>\n",
       "      <td>f</td>\n",
       "      <td>white</td>\n",
       "      <td>bus</td>\n",
       "      <td>4.6</td>\n",
       "      <td>5.5</td>\n",
       "      <td>7.2</td>\n",
       "      <td>6.3</td>\n",
       "      <td>3.7</td>\n",
       "    </tr>\n",
       "    <tr>\n",
       "      <th>1127</th>\n",
       "      <td>49.412731</td>\n",
       "      <td>0</td>\n",
       "      <td>f</td>\n",
       "      <td>51.0</td>\n",
       "      <td>Consult</td>\n",
       "      <td>HR</td>\n",
       "      <td>empjs</td>\n",
       "      <td>no</td>\n",
       "      <td>m</td>\n",
       "      <td>grey</td>\n",
       "      <td>bus</td>\n",
       "      <td>3.8</td>\n",
       "      <td>7.6</td>\n",
       "      <td>5.7</td>\n",
       "      <td>6.3</td>\n",
       "      <td>5.2</td>\n",
       "    </tr>\n",
       "    <tr>\n",
       "      <th>1128</th>\n",
       "      <td>24.837782</td>\n",
       "      <td>0</td>\n",
       "      <td>f</td>\n",
       "      <td>29.0</td>\n",
       "      <td>Retail</td>\n",
       "      <td>HR</td>\n",
       "      <td>youjs</td>\n",
       "      <td>no</td>\n",
       "      <td>f</td>\n",
       "      <td>white</td>\n",
       "      <td>car</td>\n",
       "      <td>9.4</td>\n",
       "      <td>1.2</td>\n",
       "      <td>4.1</td>\n",
       "      <td>5.6</td>\n",
       "      <td>6.7</td>\n",
       "    </tr>\n",
       "  </tbody>\n",
       "</table>\n",
       "<p>1129 rows × 16 columns</p>\n",
       "</div>"
      ],
      "text/plain": [
       "            stag  event gender   age         industry  profession  \\\n",
       "0       7.030801      1      m  35.0            Banks          HR   \n",
       "1      22.965092      1      m  33.0            Banks          HR   \n",
       "2      15.934292      1      f  35.0  PowerGeneration          HR   \n",
       "3      15.934292      1      f  35.0  PowerGeneration          HR   \n",
       "4       8.410678      1      m  32.0           Retail  Commercial   \n",
       "...          ...    ...    ...   ...              ...         ...   \n",
       "1124   10.611910      0      f  41.0            Banks          HR   \n",
       "1125   10.611910      0      f  41.0            Banks          HR   \n",
       "1126  118.800821      0      f  34.0          Telecom  Accounting   \n",
       "1127   49.412731      0      f  51.0          Consult          HR   \n",
       "1128   24.837782      0      f  29.0           Retail          HR   \n",
       "\n",
       "          traffic    coach head_gender greywage  way  extraversion  independ  \\\n",
       "0     rabrecNErab       no           f    white  bus           6.2       4.1   \n",
       "1           empjs       no           m    white  bus           6.2       4.1   \n",
       "2     rabrecNErab       no           m    white  bus           6.2       6.2   \n",
       "3     rabrecNErab       no           m    white  bus           5.4       7.6   \n",
       "4           youjs      yes           f    white  bus           3.0       4.1   \n",
       "...           ...      ...         ...      ...  ...           ...       ...   \n",
       "1124  rabrecNErab  my head           m    white  bus           8.6       3.4   \n",
       "1125  rabrecNErab  my head           m    white  bus           8.6       3.4   \n",
       "1126           KA       no           f    white  bus           4.6       5.5   \n",
       "1127        empjs       no           m     grey  bus           3.8       7.6   \n",
       "1128        youjs       no           f    white  car           9.4       1.2   \n",
       "\n",
       "      selfcontrol  anxiety  novator  \n",
       "0             5.7      7.1      8.3  \n",
       "1             5.7      7.1      8.3  \n",
       "2             2.6      4.8      8.3  \n",
       "3             4.9      2.5      6.7  \n",
       "4             8.0      7.1      3.7  \n",
       "...           ...      ...      ...  \n",
       "1124          2.6      4.8      8.3  \n",
       "1125          2.6      4.8      8.3  \n",
       "1126          7.2      6.3      3.7  \n",
       "1127          5.7      6.3      5.2  \n",
       "1128          4.1      5.6      6.7  \n",
       "\n",
       "[1129 rows x 16 columns]"
      ]
     },
     "execution_count": 7,
     "metadata": {},
     "output_type": "execute_result"
    }
   ],
   "source": [
    "data = pd.read_csv(\"C:/Users/thoma/Desktop/final project/turnover/turnover.csv\")\n",
    "data"
   ]
  },
  {
   "cell_type": "code",
   "execution_count": 8,
   "metadata": {},
   "outputs": [
    {
     "name": "stdout",
     "output_type": "stream",
     "text": [
      "<class 'pandas.core.frame.DataFrame'>\n",
      "RangeIndex: 1129 entries, 0 to 1128\n",
      "Data columns (total 16 columns):\n",
      " #   Column        Non-Null Count  Dtype  \n",
      "---  ------        --------------  -----  \n",
      " 0   stag          1129 non-null   float64\n",
      " 1   event         1129 non-null   int64  \n",
      " 2   gender        1129 non-null   object \n",
      " 3   age           1129 non-null   float64\n",
      " 4   industry      1129 non-null   object \n",
      " 5   profession    1129 non-null   object \n",
      " 6   traffic       1129 non-null   object \n",
      " 7   coach         1129 non-null   object \n",
      " 8   head_gender   1129 non-null   object \n",
      " 9   greywage      1129 non-null   object \n",
      " 10  way           1129 non-null   object \n",
      " 11  extraversion  1129 non-null   float64\n",
      " 12  independ      1129 non-null   float64\n",
      " 13  selfcontrol   1129 non-null   float64\n",
      " 14  anxiety       1129 non-null   float64\n",
      " 15  novator       1129 non-null   float64\n",
      "dtypes: float64(7), int64(1), object(8)\n",
      "memory usage: 141.2+ KB\n"
     ]
    }
   ],
   "source": [
    "data.info()"
   ]
  },
  {
   "cell_type": "code",
   "execution_count": 9,
   "metadata": {},
   "outputs": [],
   "source": [
    "data.drop(columns='industry',inplace=True)\n",
    "#data.drop(columns='profession',inplace=True)\n"
   ]
  },
  {
   "cell_type": "code",
   "execution_count": 10,
   "metadata": {},
   "outputs": [],
   "source": [
    "data['coach_'] = data.coach.apply(lambda c: 1 if c != 'no' else 0)\n",
    "data[['coach_','coach']]\n",
    "data.drop(columns='coach',inplace=True)"
   ]
  },
  {
   "cell_type": "code",
   "execution_count": 14,
   "metadata": {},
   "outputs": [],
   "source": [
    "data[\"gender\"] = data[\"gender\"].astype(\"category\")\n",
    "data[\"profession\"] = data[\"profession\"].astype(\"category\")\n",
    "data[\"traffic\"] = data[\"traffic\"].astype(\"category\")\n",
    "data[\"coach_\"] = data[\"coach_\"].astype(\"category\")\n",
    "data[\"head_gender\"] = data[\"head_gender\"].astype(\"category\")\n",
    "data[\"greywage\"] = data[\"greywage\"].astype(\"category\")\n",
    "data[\"way\"] = data[\"way\"].astype(\"category\")\n",
    "#data[\"industry\"] = data[\"industry\"].astype(\"category\")"
   ]
  },
  {
   "cell_type": "code",
   "execution_count": null,
   "metadata": {},
   "outputs": [],
   "source": []
  },
  {
   "cell_type": "code",
   "execution_count": 15,
   "metadata": {},
   "outputs": [
    {
     "data": {
      "text/plain": [
       "array([[<AxesSubplot:title={'center':'stag'}>,\n",
       "        <AxesSubplot:title={'center':'event'}>,\n",
       "        <AxesSubplot:title={'center':'age'}>],\n",
       "       [<AxesSubplot:title={'center':'extraversion'}>,\n",
       "        <AxesSubplot:title={'center':'independ'}>,\n",
       "        <AxesSubplot:title={'center':'selfcontrol'}>],\n",
       "       [<AxesSubplot:title={'center':'anxiety'}>,\n",
       "        <AxesSubplot:title={'center':'novator'}>, <AxesSubplot:>]],\n",
       "      dtype=object)"
      ]
     },
     "execution_count": 15,
     "metadata": {},
     "output_type": "execute_result"
    },
    {
     "data": {
      "image/png": "[encoded data removed]",
      "text/plain": [
       "<Figure size 1080x720 with 9 Axes>"
      ]
     },
     "metadata": {
      "needs_background": "light"
     },
     "output_type": "display_data"
    }
   ],
   "source": [
    "data.hist(figsize=(15, 10))"
   ]
  },
  {
   "cell_type": "code",
   "execution_count": 20,
   "metadata": {},
   "outputs": [
    {
     "data": {
      "application/vnd.plotly.v1+json": {
       "config": {
        "plotlyServerURL": "https://plot.ly"
       },
       "data": [
        {
         "alignmentgroup": "True",
         "bingroup": "x",
         "hovertemplate": "event=1<br>age=%{x}<br>count=%{y}<extra></extra>",
         "legendgroup": "1",
         "marker": {
          "color": "#636efa",
          "pattern": {
           "shape": ""
          }
         },
         "name": "1",
         "offsetgroup": "1",
         "orientation": "v",
         "showlegend": true,
         "type": "histogram",
         "x": [
          35,
          33,
          35,
          35,
          32,
          42,
          42,
          28,
          29,
          30,
          40,
          23,
          22,
          24,
          25,
          28,
          30,
          27,
          36,
          29,
          29,
          48,
          29,
          25,
          25,
          36,
          36,
          29,
          35,
          35,
          21,
          35,
          25,
          30.40033257,
          29,
          22,
          34,
          34,
          34,
          34,
          21,
          22,
          32,
          36,
          30,
          32,
          33,
          49,
          29,
          29,
          29,
          36,
          22,
          21,
          25,
          38,
          38,
          23,
          23,
          38,
          24,
          24,
          36,
          21,
          29,
          29,
          26,
          36,
          36,
          30.40033257,
          22,
          29,
          23,
          22,
          36,
          27,
          25,
          25,
          24,
          27,
          34,
          34,
          24,
          23,
          38,
          25,
          25,
          28,
          29,
          26,
          21,
          25,
          25,
          24,
          31,
          45,
          21,
          22,
          37,
          32,
          37,
          30,
          37,
          22,
          22,
          22,
          22,
          28,
          28,
          25,
          23,
          25,
          26,
          26,
          30,
          38,
          37,
          26,
          27,
          29,
          29,
          29,
          26,
          26,
          49,
          21,
          21,
          26,
          22,
          51,
          28,
          52,
          43,
          44,
          45,
          27,
          26,
          25,
          19,
          31,
          31,
          31,
          31,
          30.40033257,
          30.40033257,
          18,
          33,
          36,
          31,
          45,
          29,
          23,
          27,
          22,
          47,
          47,
          47,
          30.40033257,
          28,
          26,
          31,
          24,
          27,
          35,
          35,
          31,
          23,
          40,
          31,
          37,
          24,
          23,
          23,
          46,
          23,
          40,
          39,
          28,
          40,
          33,
          33,
          24,
          38,
          35,
          33,
          36,
          36,
          36,
          22,
          38,
          23,
          23,
          24,
          26,
          33,
          40,
          23,
          27,
          24,
          30,
          37,
          31,
          31,
          23,
          40,
          40,
          40,
          37,
          30,
          38,
          32,
          34,
          25,
          25,
          37,
          31,
          26,
          33,
          23,
          26,
          24,
          25,
          33,
          24,
          23,
          34,
          30,
          29,
          30,
          28,
          33,
          33,
          27,
          32,
          31,
          22,
          24,
          23,
          22,
          39,
          34,
          28,
          32,
          22,
          41,
          24,
          24,
          26,
          36,
          30,
          30,
          24,
          28,
          24,
          24,
          44,
          39,
          40,
          30.40033257,
          26,
          26,
          33,
          28,
          27,
          37,
          38,
          44,
          23,
          23,
          23,
          23,
          34,
          45,
          36,
          36,
          30,
          23,
          23,
          27,
          29,
          28,
          23,
          23,
          38,
          38,
          26,
          36,
          28,
          27,
          40,
          23,
          22,
          23,
          26,
          26,
          24,
          33,
          22,
          25,
          22,
          37,
          27,
          27,
          35,
          24,
          25,
          23,
          31,
          35,
          21,
          21,
          24,
          25,
          19,
          19,
          22,
          48,
          44,
          24,
          42,
          42,
          22,
          41,
          26,
          31,
          38,
          26,
          38,
          38,
          19,
          19,
          32,
          26,
          42,
          42,
          33,
          32,
          28,
          26,
          40,
          29,
          44,
          31,
          36,
          30,
          54,
          54,
          36,
          32,
          41,
          41,
          41,
          30,
          23,
          23,
          25,
          23,
          22,
          24,
          26,
          34,
          27,
          26,
          27,
          22,
          31,
          31,
          37,
          42,
          22,
          22,
          40,
          34,
          46,
          23,
          23,
          31,
          35,
          24,
          41,
          41,
          41,
          41,
          41,
          22,
          34,
          27,
          27,
          35,
          27,
          42,
          44,
          32,
          23,
          27,
          39,
          29,
          24,
          24,
          33,
          27,
          29,
          19,
          29,
          30,
          34,
          29,
          31,
          42,
          34,
          39,
          38,
          33,
          44,
          28,
          24,
          29,
          30,
          39,
          26,
          34,
          32,
          23,
          25,
          25,
          32,
          25,
          34,
          25,
          36,
          32,
          25,
          26,
          37,
          25,
          24,
          38,
          26,
          34,
          34,
          34,
          34,
          36,
          32,
          23,
          37,
          29,
          27,
          18,
          37,
          37,
          37,
          37,
          30,
          33,
          18,
          36,
          29,
          38,
          30.40033257,
          27,
          38,
          34,
          39,
          39,
          39,
          27,
          29,
          28,
          27,
          24,
          34,
          38,
          58,
          28,
          37,
          32,
          22,
          34,
          36,
          35,
          44,
          36,
          26,
          38,
          24,
          37,
          35,
          42,
          37,
          37,
          48,
          21,
          27,
          31,
          26,
          24,
          42,
          39,
          41,
          32,
          41,
          41,
          41,
          32,
          26,
          26,
          24,
          24,
          31,
          31,
          27,
          23,
          23,
          34,
          39,
          33,
          34,
          22,
          27,
          25,
          22,
          24,
          26,
          30,
          22,
          21,
          24,
          23,
          42,
          25,
          35,
          25,
          26,
          21,
          25,
          26,
          31,
          44,
          23,
          39,
          32,
          34,
          34,
          22,
          27,
          31,
          31,
          32,
          36,
          36,
          38,
          29,
          25,
          34,
          21,
          27,
          32,
          39,
          45,
          45,
          45,
          23,
          22,
          19,
          43,
          27,
          24,
          36,
          29,
          41
         ],
         "xaxis": "x",
         "yaxis": "y"
        },
        {
         "alignmentgroup": "True",
         "bingroup": "x",
         "hovertemplate": "event=0<br>age=%{x}<br>count=%{y}<extra></extra>",
         "legendgroup": "0",
         "marker": {
          "color": "#EF553B",
          "pattern": {
           "shape": ""
          }
         },
         "name": "0",
         "offsetgroup": "0",
         "orientation": "v",
         "showlegend": true,
         "type": "histogram",
         "x": [
          34,
          34,
          34,
          43,
          33,
          33,
          33,
          30,
          25,
          32,
          36,
          38,
          32,
          44,
          25,
          29,
          26,
          23,
          32,
          42,
          30,
          31,
          31,
          40,
          31,
          24,
          35,
          31,
          26,
          26,
          23,
          32,
          26,
          22,
          27,
          23,
          25,
          26,
          26,
          30,
          31,
          31,
          29,
          46,
          26,
          26,
          31,
          31,
          33,
          33,
          26,
          28,
          29,
          29,
          29,
          29,
          26,
          19,
          33,
          31,
          28,
          32,
          27,
          24,
          19,
          35,
          30.40033257,
          35,
          43,
          29,
          29,
          33,
          33,
          38,
          29,
          29,
          29,
          35,
          39,
          26,
          26,
          33,
          33,
          39,
          39,
          23,
          24,
          26,
          26,
          34,
          26,
          26,
          32,
          29,
          21,
          21,
          26,
          26,
          26,
          26,
          35,
          28,
          27,
          27,
          26,
          26,
          31,
          31,
          25,
          33,
          26,
          21,
          27,
          25,
          31,
          22,
          33,
          23,
          26,
          42,
          29,
          37,
          28,
          28,
          28,
          20,
          31,
          23,
          33,
          22,
          25,
          25,
          30,
          22,
          29,
          36,
          33,
          34,
          34,
          34,
          28,
          45,
          45,
          33,
          29,
          29,
          29,
          33,
          33,
          28,
          22,
          40,
          40,
          31,
          43,
          23,
          29,
          29,
          29,
          22,
          21,
          40,
          31,
          25,
          25,
          29,
          27,
          29,
          33,
          31,
          33,
          34,
          42,
          30.40033257,
          27,
          40,
          28,
          39,
          39,
          24,
          24,
          34,
          23,
          28,
          30,
          20,
          25,
          37,
          36,
          23,
          26,
          23,
          45,
          38,
          20,
          24,
          38,
          33,
          32,
          37,
          32,
          25,
          25,
          56,
          32,
          24,
          24,
          24,
          31,
          27,
          37,
          35,
          35,
          29,
          25,
          27,
          35,
          46,
          38,
          38,
          38,
          38,
          25,
          31,
          31,
          40,
          40,
          40,
          26,
          23,
          23,
          34,
          31,
          31,
          27,
          35,
          39,
          39,
          27,
          27,
          36,
          31,
          23,
          31,
          22,
          45,
          33,
          33,
          41,
          50,
          34,
          25,
          29,
          26,
          27,
          43,
          31,
          27,
          28,
          21,
          49,
          27,
          23,
          41,
          49,
          30,
          21,
          32,
          29,
          23,
          36,
          45,
          45,
          32,
          37,
          29,
          25,
          27,
          42,
          28,
          40,
          40,
          24,
          34,
          29,
          40,
          23,
          24,
          34,
          29,
          34,
          28,
          23,
          37,
          29,
          29,
          23,
          32,
          29,
          32,
          30,
          30,
          30,
          24,
          28,
          26,
          41,
          37,
          47,
          26,
          46,
          30,
          30,
          30,
          34,
          23,
          41,
          41,
          42,
          42,
          42,
          33,
          34,
          23,
          24,
          21,
          38,
          34,
          27,
          32,
          28,
          34,
          34,
          22,
          30,
          27,
          30,
          24,
          36,
          30,
          24,
          35,
          39,
          27,
          27,
          24,
          24,
          28,
          31,
          43,
          45,
          45,
          43,
          38,
          38,
          38,
          46,
          35,
          38,
          38,
          27,
          27,
          43,
          26,
          25,
          26,
          26,
          33,
          33,
          38,
          32,
          45,
          32,
          35,
          24,
          26,
          34,
          42,
          27,
          35,
          37,
          37,
          30,
          26,
          27,
          54,
          21,
          21,
          32,
          32,
          25,
          25,
          28,
          33,
          23,
          31,
          31,
          46,
          46,
          26,
          30,
          30,
          29,
          32,
          37,
          39,
          50,
          51,
          33,
          25,
          32,
          32,
          23,
          38,
          38,
          38,
          38,
          27,
          29,
          31,
          32,
          24,
          24,
          24,
          26,
          30,
          28,
          41,
          41,
          29,
          35,
          33,
          23,
          27,
          27,
          30,
          32,
          38,
          34,
          26,
          28,
          32,
          49,
          45,
          23,
          40,
          25,
          29,
          42,
          32,
          37,
          22,
          22,
          27,
          28,
          31,
          38,
          38,
          23,
          36,
          22,
          22,
          40,
          22,
          37,
          37,
          30,
          24,
          30,
          30,
          30,
          30,
          36,
          30,
          25,
          25,
          22,
          31,
          33,
          38,
          24,
          30,
          32,
          28,
          24,
          36,
          26,
          26,
          26,
          30,
          37,
          26,
          33,
          31,
          36,
          29,
          41,
          25,
          43,
          54,
          30,
          23,
          35,
          37,
          23,
          26,
          47,
          47,
          34,
          25,
          29,
          34,
          39,
          32,
          32,
          32,
          23,
          43,
          30,
          31,
          25,
          22,
          41,
          32,
          29,
          29,
          25,
          28,
          28,
          32,
          32,
          31,
          32,
          20,
          34,
          38,
          33,
          38,
          34,
          43,
          39,
          39,
          31,
          34,
          31,
          31,
          22,
          25,
          19,
          41,
          27,
          48,
          27,
          41,
          41,
          34,
          51,
          29
         ],
         "xaxis": "x",
         "yaxis": "y"
        }
       ],
       "layout": {
        "barmode": "group",
        "legend": {
         "title": {
          "text": "event"
         },
         "tracegroupgap": 0
        },
        "margin": {
         "t": 60
        },
        "template": {
         "data": {
          "bar": [
           {
            "error_x": {
             "color": "#2a3f5f"
            },
            "error_y": {
             "color": "#2a3f5f"
            },
            "marker": {
             "line": {
              "color": "#E5ECF6",
              "width": 0.5
             },
             "pattern": {
              "fillmode": "overlay",
              "size": 10,
              "solidity": 0.2
             }
            },
            "type": "bar"
           }
          ],
          "barpolar": [
           {
            "marker": {
             "line": {
              "color": "#E5ECF6",
              "width": 0.5
             },
             "pattern": {
              "fillmode": "overlay",
              "size": 10,
              "solidity": 0.2
             }
            },
            "type": "barpolar"
           }
          ],
          "carpet": [
           {
            "aaxis": {
             "endlinecolor": "#2a3f5f",
             "gridcolor": "white",
             "linecolor": "white",
             "minorgridcolor": "white",
             "startlinecolor": "#2a3f5f"
            },
            "baxis": {
             "endlinecolor": "#2a3f5f",
             "gridcolor": "white",
             "linecolor": "white",
             "minorgridcolor": "white",
             "startlinecolor": "#2a3f5f"
            },
            "type": "carpet"
           }
          ],
          "choropleth": [
           {
            "colorbar": {
             "outlinewidth": 0,
             "ticks": ""
            },
            "type": "choropleth"
           }
          ],
          "contour": [
           {
            "colorbar": {
             "outlinewidth": 0,
             "ticks": ""
            },
            "colorscale": [
             [
              0,
              "#0d0887"
             ],
             [
              0.1111111111111111,
              "#46039f"
             ],
             [
              0.2222222222222222,
              "#7201a8"
             ],
             [
              0.3333333333333333,
              "#9c179e"
             ],
             [
              0.4444444444444444,
              "#bd3786"
             ],
             [
              0.5555555555555556,
              "#d8576b"
             ],
             [
              0.6666666666666666,
              "#ed7953"
             ],
             [
              0.7777777777777778,
              "#fb9f3a"
             ],
             [
              0.8888888888888888,
              "#fdca26"
             ],
             [
              1,
              "#f0f921"
             ]
            ],
            "type": "contour"
           }
          ],
          "contourcarpet": [
           {
            "colorbar": {
             "outlinewidth": 0,
             "ticks": ""
            },
            "type": "contourcarpet"
           }
          ],
          "heatmap": [
           {
            "colorbar": {
             "outlinewidth": 0,
             "ticks": ""
            },
            "colorscale": [
             [
              0,
              "#0d0887"
             ],
             [
              0.1111111111111111,
              "#46039f"
             ],
             [
              0.2222222222222222,
              "#7201a8"
             ],
             [
              0.3333333333333333,
              "#9c179e"
             ],
             [
              0.4444444444444444,
              "#bd3786"
             ],
             [
              0.5555555555555556,
              "#d8576b"
             ],
             [
              0.6666666666666666,
              "#ed7953"
             ],
             [
              0.7777777777777778,
              "#fb9f3a"
             ],
             [
              0.8888888888888888,
              "#fdca26"
             ],
             [
              1,
              "#f0f921"
             ]
            ],
            "type": "heatmap"
           }
          ],
          "heatmapgl": [
           {
            "colorbar": {
             "outlinewidth": 0,
             "ticks": ""
            },
            "colorscale": [
             [
              0,
              "#0d0887"
             ],
             [
              0.1111111111111111,
              "#46039f"
             ],
             [
              0.2222222222222222,
              "#7201a8"
             ],
             [
              0.3333333333333333,
              "#9c179e"
             ],
             [
              0.4444444444444444,
              "#bd3786"
             ],
             [
              0.5555555555555556,
              "#d8576b"
             ],
             [
              0.6666666666666666,
              "#ed7953"
             ],
             [
              0.7777777777777778,
              "#fb9f3a"
             ],
             [
              0.8888888888888888,
              "#fdca26"
             ],
             [
              1,
              "#f0f921"
             ]
            ],
            "type": "heatmapgl"
           }
          ],
          "histogram": [
           {
            "marker": {
             "pattern": {
              "fillmode": "overlay",
              "size": 10,
              "solidity": 0.2
             }
            },
            "type": "histogram"
           }
          ],
          "histogram2d": [
           {
            "colorbar": {
             "outlinewidth": 0,
             "ticks": ""
            },
            "colorscale": [
             [
              0,
              "#0d0887"
             ],
             [
              0.1111111111111111,
              "#46039f"
             ],
             [
              0.2222222222222222,
              "#7201a8"
             ],
             [
              0.3333333333333333,
              "#9c179e"
             ],
             [
              0.4444444444444444,
              "#bd3786"
             ],
             [
              0.5555555555555556,
              "#d8576b"
             ],
             [
              0.6666666666666666,
              "#ed7953"
             ],
             [
              0.7777777777777778,
              "#fb9f3a"
             ],
             [
              0.8888888888888888,
              "#fdca26"
             ],
             [
              1,
              "#f0f921"
             ]
            ],
            "type": "histogram2d"
           }
          ],
          "histogram2dcontour": [
           {
            "colorbar": {
             "outlinewidth": 0,
             "ticks": ""
            },
            "colorscale": [
             [
              0,
              "#0d0887"
             ],
             [
              0.1111111111111111,
              "#46039f"
             ],
             [
              0.2222222222222222,
              "#7201a8"
             ],
             [
              0.3333333333333333,
              "#9c179e"
             ],
             [
              0.4444444444444444,
              "#bd3786"
             ],
             [
              0.5555555555555556,
              "#d8576b"
             ],
             [
              0.6666666666666666,
              "#ed7953"
             ],
             [
              0.7777777777777778,
              "#fb9f3a"
             ],
             [
              0.8888888888888888,
              "#fdca26"
             ],
             [
              1,
              "#f0f921"
             ]
            ],
            "type": "histogram2dcontour"
           }
          ],
          "mesh3d": [
           {
            "colorbar": {
             "outlinewidth": 0,
             "ticks": ""
            },
            "type": "mesh3d"
           }
          ],
          "parcoords": [
           {
            "line": {
             "colorbar": {
              "outlinewidth": 0,
              "ticks": ""
             }
            },
            "type": "parcoords"
           }
          ],
          "pie": [
           {
            "automargin": true,
            "type": "pie"
           }
          ],
          "scatter": [
           {
            "marker": {
             "colorbar": {
              "outlinewidth": 0,
              "ticks": ""
             }
            },
            "type": "scatter"
           }
          ],
          "scatter3d": [
           {
            "line": {
             "colorbar": {
              "outlinewidth": 0,
              "ticks": ""
             }
            },
            "marker": {
             "colorbar": {
              "outlinewidth": 0,
              "ticks": ""
             }
            },
            "type": "scatter3d"
           }
          ],
          "scattercarpet": [
           {
            "marker": {
             "colorbar": {
              "outlinewidth": 0,
              "ticks": ""
             }
            },
            "type": "scattercarpet"
           }
          ],
          "scattergeo": [
           {
            "marker": {
             "colorbar": {
              "outlinewidth": 0,
              "ticks": ""
             }
            },
            "type": "scattergeo"
           }
          ],
          "scattergl": [
           {
            "marker": {
             "colorbar": {
              "outlinewidth": 0,
              "ticks": ""
             }
            },
            "type": "scattergl"
           }
          ],
          "scattermapbox": [
           {
            "marker": {
             "colorbar": {
              "outlinewidth": 0,
              "ticks": ""
             }
            },
            "type": "scattermapbox"
           }
          ],
          "scatterpolar": [
           {
            "marker": {
             "colorbar": {
              "outlinewidth": 0,
              "ticks": ""
             }
            },
            "type": "scatterpolar"
           }
          ],
          "scatterpolargl": [
           {
            "marker": {
             "colorbar": {
              "outlinewidth": 0,
              "ticks": ""
             }
            },
            "type": "scatterpolargl"
           }
          ],
          "scatterternary": [
           {
            "marker": {
             "colorbar": {
              "outlinewidth": 0,
              "ticks": ""
             }
            },
            "type": "scatterternary"
           }
          ],
          "surface": [
           {
            "colorbar": {
             "outlinewidth": 0,
             "ticks": ""
            },
            "colorscale": [
             [
              0,
              "#0d0887"
             ],
             [
              0.1111111111111111,
              "#46039f"
             ],
             [
              0.2222222222222222,
              "#7201a8"
             ],
             [
              0.3333333333333333,
              "#9c179e"
             ],
             [
              0.4444444444444444,
              "#bd3786"
             ],
             [
              0.5555555555555556,
              "#d8576b"
             ],
             [
              0.6666666666666666,
              "#ed7953"
             ],
             [
              0.7777777777777778,
              "#fb9f3a"
             ],
             [
              0.8888888888888888,
              "#fdca26"
             ],
             [
              1,
              "#f0f921"
             ]
            ],
            "type": "surface"
           }
          ],
          "table": [
           {
            "cells": {
             "fill": {
              "color": "#EBF0F8"
             },
             "line": {
              "color": "white"
             }
            },
            "header": {
             "fill": {
              "color": "#C8D4E3"
             },
             "line": {
              "color": "white"
             }
            },
            "type": "table"
           }
          ]
         },
         "layout": {
          "annotationdefaults": {
           "arrowcolor": "#2a3f5f",
           "arrowhead": 0,
           "arrowwidth": 1
          },
          "autotypenumbers": "strict",
          "coloraxis": {
           "colorbar": {
            "outlinewidth": 0,
            "ticks": ""
           }
          },
          "colorscale": {
           "diverging": [
            [
             0,
             "#8e0152"
            ],
            [
             0.1,
             "#c51b7d"
            ],
            [
             0.2,
             "#de77ae"
            ],
            [
             0.3,
             "#f1b6da"
            ],
            [
             0.4,
             "#fde0ef"
            ],
            [
             0.5,
             "#f7f7f7"
            ],
            [
             0.6,
             "#e6f5d0"
            ],
            [
             0.7,
             "#b8e186"
            ],
            [
             0.8,
             "#7fbc41"
            ],
            [
             0.9,
             "#4d9221"
            ],
            [
             1,
             "#276419"
            ]
           ],
           "sequential": [
            [
             0,
             "#0d0887"
            ],
            [
             0.1111111111111111,
             "#46039f"
            ],
            [
             0.2222222222222222,
             "#7201a8"
            ],
            [
             0.3333333333333333,
             "#9c179e"
            ],
            [
             0.4444444444444444,
             "#bd3786"
            ],
            [
             0.5555555555555556,
             "#d8576b"
            ],
            [
             0.6666666666666666,
             "#ed7953"
            ],
            [
             0.7777777777777778,
             "#fb9f3a"
            ],
            [
             0.8888888888888888,
             "#fdca26"
            ],
            [
             1,
             "#f0f921"
            ]
           ],
           "sequentialminus": [
            [
             0,
             "#0d0887"
            ],
            [
             0.1111111111111111,
             "#46039f"
            ],
            [
             0.2222222222222222,
             "#7201a8"
            ],
            [
             0.3333333333333333,
             "#9c179e"
            ],
            [
             0.4444444444444444,
             "#bd3786"
            ],
            [
             0.5555555555555556,
             "#d8576b"
            ],
            [
             0.6666666666666666,
             "#ed7953"
            ],
            [
             0.7777777777777778,
             "#fb9f3a"
            ],
            [
             0.8888888888888888,
             "#fdca26"
            ],
            [
             1,
             "#f0f921"
            ]
           ]
          },
          "colorway": [
           "#636efa",
           "#EF553B",
           "#00cc96",
           "#ab63fa",
           "#FFA15A",
           "#19d3f3",
           "#FF6692",
           "#B6E880",
           "#FF97FF",
           "#FECB52"
          ],
          "font": {
           "color": "#2a3f5f"
          },
          "geo": {
           "bgcolor": "white",
           "lakecolor": "white",
           "landcolor": "#E5ECF6",
           "showlakes": true,
           "showland": true,
           "subunitcolor": "white"
          },
          "hoverlabel": {
           "align": "left"
          },
          "hovermode": "closest",
          "mapbox": {
           "style": "light"
          },
          "paper_bgcolor": "white",
          "plot_bgcolor": "#E5ECF6",
          "polar": {
           "angularaxis": {
            "gridcolor": "white",
            "linecolor": "white",
            "ticks": ""
           },
           "bgcolor": "#E5ECF6",
           "radialaxis": {
            "gridcolor": "white",
            "linecolor": "white",
            "ticks": ""
           }
          },
          "scene": {
           "xaxis": {
            "backgroundcolor": "#E5ECF6",
            "gridcolor": "white",
            "gridwidth": 2,
            "linecolor": "white",
            "showbackground": true,
            "ticks": "",
            "zerolinecolor": "white"
           },
           "yaxis": {
            "backgroundcolor": "#E5ECF6",
            "gridcolor": "white",
            "gridwidth": 2,
            "linecolor": "white",
            "showbackground": true,
            "ticks": "",
            "zerolinecolor": "white"
           },
           "zaxis": {
            "backgroundcolor": "#E5ECF6",
            "gridcolor": "white",
            "gridwidth": 2,
            "linecolor": "white",
            "showbackground": true,
            "ticks": "",
            "zerolinecolor": "white"
           }
          },
          "shapedefaults": {
           "line": {
            "color": "#2a3f5f"
           }
          },
          "ternary": {
           "aaxis": {
            "gridcolor": "white",
            "linecolor": "white",
            "ticks": ""
           },
           "baxis": {
            "gridcolor": "white",
            "linecolor": "white",
            "ticks": ""
           },
           "bgcolor": "#E5ECF6",
           "caxis": {
            "gridcolor": "white",
            "linecolor": "white",
            "ticks": ""
           }
          },
          "title": {
           "x": 0.05
          },
          "xaxis": {
           "automargin": true,
           "gridcolor": "white",
           "linecolor": "white",
           "ticks": "",
           "title": {
            "standoff": 15
           },
           "zerolinecolor": "white",
           "zerolinewidth": 2
          },
          "yaxis": {
           "automargin": true,
           "gridcolor": "white",
           "linecolor": "white",
           "ticks": "",
           "title": {
            "standoff": 15
           },
           "zerolinecolor": "white",
           "zerolinewidth": 2
          }
         }
        },
        "xaxis": {
         "anchor": "y",
         "domain": [
          0,
          1
         ],
         "title": {
          "text": "age"
         }
        },
        "yaxis": {
         "anchor": "x",
         "domain": [
          0,
          1
         ],
         "title": {
          "text": "count"
         }
        }
       }
      }
     },
     "metadata": {},
     "output_type": "display_data"
    }
   ],
   "source": [
    "\n",
    "#Checking if age is a factor that affects employees from resigning\n",
    "import plotly.express as px\n",
    "fig = px.histogram(data, x=\"age\", color='event', barmode='group')\n",
    "fig.show()\n",
    "\n"
   ]
  },
  {
   "cell_type": "code",
   "execution_count": 19,
   "metadata": {},
   "outputs": [
    {
     "data": {
      "application/vnd.plotly.v1+json": {
       "config": {
        "plotlyServerURL": "https://plot.ly"
       },
       "data": [
        {
         "alignmentgroup": "True",
         "bingroup": "x",
         "hovertemplate": "event=1<br>stag=%{x}<br>count=%{y}<extra></extra>",
         "legendgroup": "1",
         "marker": {
          "color": "#636efa",
          "pattern": {
           "shape": ""
          }
         },
         "name": "1",
         "offsetgroup": "1",
         "orientation": "v",
         "showlegend": true,
         "type": "histogram",
         "x": [
          7.030800821000001,
          22.9650924,
          15.93429158,
          15.93429158,
          8.410677618,
          8.969199179,
          8.969199179,
          120.4435318,
          8.607802875,
          4.435318275,
          67.35112936,
          20.92813142,
          20.92813142,
          8.936344969,
          33.57700205,
          16.39425051,
          15.34291581,
          26.4476386,
          14.71868583,
          45.37166324,
          45.37166324,
          36.96098563,
          22.47227926,
          59.20328542,
          59.20328542,
          12.38603696,
          24.3449692,
          11.95893224,
          3.252566735,
          3.252566735,
          14.58726899,
          16.91991786,
          28.15605749,
          60.94455852,
          87.68788501,
          43.4661191,
          22.73511294,
          22.73511294,
          22.73511294,
          22.73511294,
          13.07597536,
          7.589322382000001,
          36.23819302,
          19.08829569,
          4.369609856,
          80.98562628,
          9.100616016,
          36.92813142,
          3.975359343,
          3.975359343,
          3.975359343,
          7.589322382000001,
          95.21149897,
          41.69199179,
          14.948665300000002,
          50.72689938,
          50.72689938,
          35.28542094,
          35.28542094,
          35.94250513,
          15.57289528,
          15.57289528,
          52.96098563,
          7.819301847999999,
          81.83983573,
          55.72073922,
          4.336755647,
          18.95687885,
          18.95687885,
          53.81519507,
          90.51334702,
          40.57494867,
          59.49897331,
          6.603696099,
          44.78028747,
          6.669404517,
          59.20328542,
          59.20328542,
          17.3798768,
          38.86652977,
          7.950718686,
          7.950718686,
          96.52566735,
          86.53798768,
          52.862423,
          17.57700205,
          17.57700205,
          25.06776181,
          86.83367556,
          13.10882957,
          26.18480493,
          9.626283368,
          9.889117043,
          3.351129363,
          15.3100616,
          80.06570842,
          16.78850103,
          19.44969199,
          9.034907598,
          18.49691992,
          53.19096509,
          42.57905544,
          23.6550308,
          41.29774127,
          41.29774127,
          123.3347023,
          123.3347023,
          13.17453799,
          13.17453799,
          14.85010267,
          24.24640657,
          12.09034908,
          11.49897331,
          11.49897331,
          27.36755647,
          15.54004107,
          4.960985626,
          19.8110883,
          103.3921971,
          3.975359343,
          3.975359343,
          3.975359343,
          70.93223819,
          70.93223819,
          51.94250513,
          38.76796715,
          38.76796715,
          34.95687885,
          49.3798768,
          25.65913758,
          50.72689938,
          22.07802875,
          11.07186858,
          50.59548255,
          17.41273101,
          24.41067762,
          23.88501027,
          20.04106776,
          150.9979466,
          10.7761807,
          78.68583162,
          78.68583162,
          81.18275154,
          13.40451745,
          13.40451745,
          142.45585219999998,
          10.94045175,
          12.05749487,
          54.07802875,
          5.650924025,
          19.84394251,
          79.86858316,
          8.772073922,
          19.18685832,
          7.589322382000001,
          7.589322382000001,
          7.589322382000001,
          10.84188912,
          51.08829569,
          28.35318275,
          4.533880903,
          17.93839836,
          23.45790554,
          16.22997947,
          16.22997947,
          71.2936345,
          9.527720739,
          17.01848049,
          130.9897331,
          37.09240246,
          0.4271047229999999,
          12.8788501,
          12.8788501,
          8.147843943,
          7.326488706,
          17.93839836,
          14.620123199999998,
          16,
          32.45995893,
          73.49486653,
          73.49486653,
          11.8275154,
          46.35728953,
          52.50102669,
          14.98151951,
          26.21765914,
          26.21765914,
          26.21765914,
          29.07597536,
          33.3798768,
          5.848049281000001,
          5.848049281000001,
          77.53593429,
          166.275154,
          107.1704312,
          19.44969199,
          8.640657083999999,
          13.66735113,
          6.275154004,
          23.19507187,
          16.32854209,
          26.11909651,
          35.38398357,
          25.98767967,
          3.58110883,
          3.58110883,
          3.58110883,
          1.708418891,
          25.23203285,
          13.897330599999998,
          63.11293634,
          11.30184805,
          11.69609856,
          11.69609856,
          21.61806982,
          39.06365503,
          23.6550308,
          20.56673511,
          46.78439425,
          80.16427105,
          11.89322382,
          79.86858316,
          2.201232033,
          1.741273101,
          24.18069815,
          5.749486653,
          12.02464066,
          8.31211499,
          15.21149897,
          49.14989733,
          86.6036961,
          86.6036961,
          53.35523614,
          139.0718686,
          28.35318275,
          15.14579055,
          160.0657084,
          19.71252567,
          70.30800821,
          2.792607803,
          13.01026694,
          123.0718686,
          26.67761807,
          16.59137577,
          2.759753593,
          23.68788501,
          23.68788501,
          16.42710472,
          45.96303901,
          12.02464066,
          73.65913758,
          26.94045175,
          2.431211499,
          68.27104723,
          68.27104723,
          1.642710472,
          12.35318275,
          32.49281314,
          6.275154004,
          5.026694045,
          5.026694045,
          150.1437372,
          53.97946612,
          27.49897331,
          54.01232033,
          8.574948665,
          64.29568789,
          23.9835729,
          23.9835729,
          23.9835729,
          23.9835729,
          37.78234086,
          2.98973306,
          23.52361396,
          23.52361396,
          54.04517454,
          20.92813142,
          20.92813142,
          11.99178645,
          44.97741273,
          14.22587269,
          61.73305955,
          61.73305955,
          6.176591376,
          6.176591376,
          94.9486653,
          57.23203285,
          29.01026694,
          11.99178645,
          3.449691992,
          4.533880903,
          35.77823409,
          2.201232033,
          11.23613963,
          9.823408624,
          21.15811088,
          155.1704312,
          13.86447639,
          13.01026694,
          4.008213552,
          10.34907598,
          34.03696099,
          34.03696099,
          11.95893224,
          32.95277207,
          5.32238193,
          40.3449692,
          96,
          7.030800821000001,
          26.94045175,
          28.58316222,
          26.31622177,
          57.82340862,
          133.9137577,
          133.9137577,
          25.42915811,
          32.52566735,
          18.1026694,
          8.180698152,
          42.48049281,
          42.48049281,
          129.8069815,
          8.016427105,
          9.100616016,
          26.15195072,
          66.49691992,
          6.53798768,
          2.858316222,
          2.858316222,
          133.8809035,
          133.8809035,
          63.14579055,
          8.969199179,
          13.14168378,
          49.34702259,
          12.81314168,
          23.95071869,
          24.0164271,
          43.99178645,
          20.69815195,
          23.9835729,
          64.29568789,
          21.35523614,
          11.69609856,
          54.07802875,
          1.117043121,
          1.117043121,
          42.38193018,
          5.782340862000001,
          17.60985626,
          17.60985626,
          17.60985626,
          26.0862423,
          70.83367556,
          70.83367556,
          42.94045175,
          19.58110883,
          96,
          67.84394251,
          0.919917864,
          48.45995893,
          15.73716632,
          44.02464066,
          12.78028747,
          106.8418891,
          6.143737166,
          45.8973306,
          80.65708419,
          49.31416838,
          20.04106776,
          20.04106776,
          4.435318275,
          3.58110883,
          18.49691992,
          82.82546201,
          82.82546201,
          28.84599589,
          35.74537988,
          50.98973306,
          9.790554415,
          9.790554415,
          9.790554415,
          3.121149897,
          3.121149897,
          30.02874743,
          34.0698152,
          33.93839836,
          33.93839836,
          10.7761807,
          59.86036961,
          24.83778234,
          15.40862423,
          3.811088296,
          13.897330599999998,
          108.550308,
          18.33264887,
          133.4209446,
          8.180698152,
          8.180698152,
          13.33880903,
          55.78644764,
          12.97741273,
          163.81108830000002,
          31.96714579,
          22.57084189,
          48.45995893,
          14.85010267,
          63.54004107,
          49.31416838,
          13.27310062,
          17.83983573,
          114.1355236,
          8.082135524,
          26.94045175,
          1.478439425,
          12.78028747,
          19.87679671,
          96.72279261,
          12.12320329,
          10.64476386,
          9.593429158,
          43.92607803,
          3.811088296,
          48.09856263,
          8.640657083999999,
          23.2936345,
          19.18685832,
          22.24229979,
          26.02053388,
          41.69199179,
          23.55646817,
          80.49281314,
          42.38193018,
          3.4825462010000003,
          88.83778234,
          11.99178645,
          5.388090349,
          26.87474333,
          45.30595483,
          45.30595483,
          45.30595483,
          45.30595483,
          22.63655031,
          10.90759754,
          9.264887064,
          54.01232033,
          1.412731006,
          59.89322382,
          89.19917864,
          39.22792608,
          39.22792608,
          39.22792608,
          39.22792608,
          144.5913758,
          47.96714579,
          42.25051335,
          12.68172485,
          29.47022587,
          116.7310062,
          49.87268994,
          12.22176591,
          19.28542094,
          81.83983573,
          7.030800821000001,
          7.030800821000001,
          2.266940452,
          26.54620123,
          79.01437372,
          26.57905544,
          25.52772074,
          70.50513347,
          14.58726899,
          37.15811088,
          32.85420945,
          10.48049281,
          11.03901437,
          22.66940452,
          23.81930185,
          50.89117043,
          12.68172485,
          40.87063655,
          9.199178645,
          0.3942505129999999,
          12.97741273,
          37.12525667,
          18.16837782,
          11.03901437,
          32.26283368,
          52.66529774,
          39.26078029,
          39.26078029,
          2.036960986,
          13.10882957,
          43.8275154,
          22.37371663,
          4.073921971,
          17.18275154,
          24.08213552,
          91.99178645,
          53.48665298,
          89.00205339,
          9.790554415,
          9.790554415,
          9.790554415,
          58.80903491,
          20.59958932,
          20.59958932,
          73.29774127,
          73.29774127,
          34.56262834,
          34.56262834,
          13.897330599999998,
          2.792607803,
          15.11293634,
          26.80903491,
          3.416837782,
          13.5687885,
          6.176591376,
          60.25462012,
          1.80698152,
          60.94455852,
          90.51334702,
          6.439425051000001,
          16,
          166.07802869999998,
          89.36344969,
          74.05338809,
          20.96098563,
          19.94250513,
          29.24024641,
          45.5687885,
          12.78028747,
          29.30595483,
          13.10882957,
          7.12936345,
          74.74332649,
          114.8583162,
          51.08829569,
          5.420944559,
          71.22792608,
          3.252566735,
          108.8788501,
          23.95071869,
          23.95071869,
          61.79876797,
          59.86036961,
          118.899384,
          32.32854209,
          38.86652977,
          56.77207392,
          56.77207392,
          8.87063655,
          8.27926078,
          5.815195072000001,
          5.256673511,
          78.91581109,
          45.79876797,
          32.45995893,
          45.53593429,
          52.73100616,
          52.73100616,
          52.73100616,
          42.94045175,
          89.36344969,
          51.87679671,
          0.755646817,
          17.41273101,
          86.83367556,
          59.00616016,
          46.22587269,
          11.00616016
         ],
         "xaxis": "x",
         "yaxis": "y"
        },
        {
         "alignmentgroup": "True",
         "bingroup": "x",
         "hovertemplate": "event=0<br>stag=%{x}<br>count=%{y}<extra></extra>",
         "legendgroup": "0",
         "marker": {
          "color": "#EF553B",
          "pattern": {
           "shape": ""
          }
         },
         "name": "0",
         "offsetgroup": "0",
         "orientation": "v",
         "showlegend": true,
         "type": "histogram",
         "x": [
          15.70431211,
          15.70431211,
          15.70431211,
          128.0657084,
          30.22587269,
          30.22587269,
          38.01232033,
          138.9404517,
          94.12731006,
          2.102669405,
          96.65708419,
          34.49691992,
          16.82135524,
          6.045174538,
          38.01232033,
          93.9301848,
          27.56468172,
          23.12936345,
          16.82135524,
          15.86858316,
          88.90349076,
          59.99178645,
          59.99178645,
          18.00410678,
          2.759753593,
          76.15605749,
          58.21765914,
          22.66940452,
          27.36755647,
          27.36755647,
          53.2238193,
          5.913757700000001,
          73.82340862,
          44.48459959,
          27.23613963,
          17.80698152,
          95.44147844,
          27.59753593,
          27.59753593,
          72.41067762,
          11.53182752,
          11.53182752,
          40.04928131,
          58.94045175,
          140.9445585,
          140.9445585,
          70.17659138,
          70.17659138,
          45.73305955,
          45.73305955,
          27.36755647,
          105.9219713,
          40.31211499,
          40.31211499,
          40.3449692,
          40.37782341,
          85.09240246,
          64.19712526,
          14.45585216,
          28.78028747,
          2.759753593,
          2.825462012,
          164.5667351,
          34.23408624,
          115.54825459999998,
          29.27310062,
          39.72073922,
          38.01232033,
          27.40041068,
          23.2936345,
          23.2936345,
          49.28131417,
          49.28131417,
          10.02053388,
          0.492813142,
          0.492813142,
          0.492813142,
          48.45995893,
          15.14579055,
          32.88706366,
          32.88706366,
          36.59958932,
          36.59958932,
          11.76180698,
          11.76180698,
          28.81314168,
          18.56262834,
          1.80698152,
          1.80698152,
          17.08418891,
          1.938398357,
          1.938398357,
          50.69404517,
          41.65913758,
          103.5893224,
          103.5893224,
          2.135523614,
          2.135523614,
          2.168377823,
          2.168377823,
          2.431211499,
          79.11293634,
          35.84394251,
          35.84394251,
          2.234086242,
          2.234086242,
          17.11704312,
          17.11704312,
          11.86036961,
          5.848049281000001,
          29.897330600000004,
          31.14579055,
          1.347022587,
          32.45995893,
          42.0862423,
          27.40041068,
          43.30184805,
          53.09240246,
          16.65708419,
          99.77823409,
          44.22176591,
          104.0164271,
          16.06570842,
          16.06570842,
          16.06570842,
          37.38809035,
          50.20123203,
          24.21355236,
          83.58110883,
          73.13347023,
          76.68172485,
          5.289527721000001,
          149.6180698,
          109.24024640000002,
          109.10882959999998,
          10.51334702,
          129.2813142,
          34.59548255,
          34.59548255,
          34.59548255,
          51.1211499,
          15.11293634,
          15.11293634,
          38.17659138,
          5.092402464,
          5.092402464,
          5.092402464,
          40.60780287,
          40.60780287,
          10.51334702,
          33.87268994,
          53.58521561,
          53.58521561,
          1.971252567,
          0.788501027,
          57.62628337,
          23.45790554,
          23.45790554,
          23.45790554,
          46.9486653,
          39.2936345,
          47.6386037,
          66.7926078,
          86.66940452,
          86.66940452,
          32.32854209,
          4.862422998,
          13.73305955,
          51.94250513,
          19.44969199,
          73.98767967,
          8.739219712999999,
          8.147843943,
          94.81724846,
          34.82546201,
          4.402464066,
          2.36550308,
          17.51129363,
          17.51129363,
          18.16837782,
          18.16837782,
          10.38193018,
          7.852156057,
          84.04106776,
          8.213552361,
          82.75975359,
          27.92607803,
          30.68583162,
          26.34907598,
          18.13552361,
          7.227926077999999,
          100.238193,
          36.00821355,
          43.95893224,
          90.15195072,
          33.57700205,
          5.94661191,
          19.74537988,
          25.36344969,
          22.01232033,
          33.41273101,
          64.52566735,
          110.4887064,
          14.06160164,
          101.5195072,
          179.449692,
          12.38603696,
          24.90349076,
          61.99589322,
          24.47638604,
          63.70431211,
          64.75564682,
          64.75564682,
          2.694045175,
          2.39835729,
          144.75564680000002,
          6.078028747,
          96.59137577,
          16.95277207,
          16.95277207,
          16.95277207,
          16.95277207,
          61.2073922,
          81.64271047,
          81.64271047,
          55.95071869,
          55.95071869,
          49.7412731,
          57.10061602,
          163.7782341,
          163.7782341,
          23.75359343,
          27.4661191,
          47.21149897,
          21.48665298,
          8.344969199,
          48.19712526,
          48.19712526,
          42.18480493,
          42.18480493,
          43.69609856,
          14.22587269,
          33.90554415,
          70.34086242,
          39.88501027,
          15.17864476,
          57.65913758,
          57.65913758,
          15.93429158,
          1.18275154,
          56.73921971,
          39.68788501,
          43.86036961,
          131.61396299999998,
          13.9301848,
          18.92402464,
          16.75564682,
          20.69815195,
          51.31827515,
          6.242299795,
          0.5256673510000001,
          140.2217659,
          5.125256674,
          40.11498973,
          32.32854209,
          1.708418891,
          50.29979466,
          27.33470226,
          5.453798768,
          79.54004107,
          12.64887064,
          20.30390144,
          20.30390144,
          128.1314168,
          5.585215606,
          61.07597536,
          110.0287474,
          52.27104723,
          5.650924025,
          6.275154004,
          10.61190965,
          38.53798768,
          16.62422998,
          28.02464066,
          31.50718686,
          5.158110883,
          4.928131417,
          36.59958932,
          103.7207392,
          16.78850103,
          34.29979466,
          16.85420945,
          16.62422998,
          42.61190965,
          16.65708419,
          16.65708419,
          82.7926078,
          1.839835729,
          73.42915811,
          123.6960986,
          7.819301847999999,
          7.819301847999999,
          155.3675565,
          15.70431211,
          19.31827515,
          20.99383984,
          2.792607803,
          11.66324435,
          5.092402464,
          22.70225873,
          3.778234086,
          3.449691992,
          9.034907598,
          9.034907598,
          24.83778234,
          5.519507187,
          4.041067762,
          30.78439425,
          4.960985626,
          4.960985626,
          4.960985626,
          38.70225873,
          105.1663244,
          7.162217659,
          8.410677618,
          3.876796715,
          12.25462012,
          37.913757700000005,
          32.88706366,
          3.58110883,
          12.32032854,
          49.80698152,
          49.80698152,
          85.48665298,
          30.35728953,
          78.32443532,
          24.24640657,
          0.689938398,
          9.429158111,
          15.01437372,
          59.40041068,
          11.8275154,
          19.1211499,
          20.89527721,
          81.24845996,
          23.03080082,
          23.03080082,
          55.22792608,
          4.993839836,
          11.26899384,
          24.27926078,
          24.27926078,
          73.3963039,
          2.102669405,
          2.102669405,
          2.102669405,
          8.772073922,
          86.04517454,
          19.44969199,
          19.44969199,
          7.852156057,
          7.852156057,
          21.65092402,
          20.76386037,
          33.97125257,
          99.77823409,
          99.77823409,
          60.78028747,
          60.78028747,
          51.58110883,
          5.585215606,
          6.866529774,
          23.9835729,
          9.691991786,
          42.90759754,
          70.93223819,
          5.35523614,
          43.17043121,
          11.72895277,
          4.468172485,
          55.12936345,
          55.12936345,
          0.887063655,
          49.70841889,
          7.12936345,
          9.067761807,
          113.8398357,
          113.8398357,
          66.69404517,
          66.69404517,
          92.64887064,
          92.64887064,
          57.69199179,
          3.811088296,
          106.2176591,
          19.51540041,
          19.51540041,
          22.24229979,
          22.24229979,
          5.749486653,
          10.11909651,
          10.11909651,
          52.00821355,
          105.8234086,
          3.4825462010000003,
          7.523613963,
          16.06570842,
          43.26899384,
          20.89527721,
          1.18275154,
          132.8952772,
          132.8952772,
          93.8973306,
          21.88090349,
          21.88090349,
          21.88090349,
          21.88090349,
          11.92607803,
          58.94045175,
          23.55646817,
          16.62422998,
          4.501026694,
          36.73100616,
          36.73100616,
          72.57494867,
          52.10677618,
          3.4825462010000003,
          7.852156057,
          7.852156057,
          1.445585216,
          72.67351129,
          44.94455852,
          9.330595483,
          7.195071869,
          24.27926078,
          44.55030801,
          51.74537988,
          59.76180698,
          30.12731006,
          12.32032854,
          45.07597536,
          5.749486653,
          21.15811088,
          19.35112936,
          112.788501,
          48.62422998,
          103.5893224,
          52.79671458,
          33.67556468,
          65.37987679999999,
          50.0698152,
          31.34291581,
          31.34291581,
          142.75153999999998,
          4.1724846,
          49.47843943,
          2.135523614,
          2.135523614,
          75.82751540000001,
          67.4825462,
          9.133470226,
          9.133470226,
          33.28131417,
          32,
          53.42094456,
          9.757700205,
          14.55441478,
          8.837782341,
          14.48870637,
          14.48870637,
          14.48870637,
          14.48870637,
          1.675564682,
          113.0513347,
          48.6899384,
          48.6899384,
          54.9650924,
          84.89527721,
          35.94250513,
          50.23408624,
          57.52772074,
          4.76386037,
          30.71868583,
          55.95071869,
          58.447638600000005,
          38.89938398,
          9.49486653,
          42.57905544,
          42.57905544,
          18.792607800000003,
          10.51334702,
          40.47638604,
          15.34291581,
          21.48665298,
          12.32032854,
          11.79466119,
          21.88090349,
          37.32238193,
          51.31827515,
          15.60574949,
          1.149897331,
          51.8110883,
          45.43737166,
          17.24845996,
          25.98767967,
          19.05544148,
          29.70020534,
          29.70020534,
          51.84394251,
          58.97330595,
          85.48665298,
          9.691991786,
          7.950718686,
          8.772073922,
          3.121149897,
          3.121149897,
          33.01848049,
          19.18685832,
          8.180698152,
          27.86036961,
          3.318275154,
          11.72895277,
          27.56468172,
          36.33675565,
          23.45790554,
          23.45790554,
          132.40246409999995,
          43.4661191,
          97.44558522,
          25.33059548,
          29.96303901,
          20.46817248,
          90.90759754,
          9.921971253,
          16.49281314,
          34.95687885,
          95.96714579,
          16.65708419,
          79.54004107,
          153.100616,
          7.162217659,
          7.162217659,
          6.800821355,
          79.80287474,
          94.78439425,
          94.78439425,
          59.17043121,
          6.800821355,
          26.67761807,
          11.56468172,
          53.35523614,
          12.5174538,
          6.669404517,
          10.61190965,
          10.61190965,
          118.80082140000002,
          49.41273101,
          24.83778234
         ],
         "xaxis": "x",
         "yaxis": "y"
        }
       ],
       "layout": {
        "barmode": "group",
        "legend": {
         "title": {
          "text": "event"
         },
         "tracegroupgap": 0
        },
        "margin": {
         "t": 60
        },
        "template": {
         "data": {
          "bar": [
           {
            "error_x": {
             "color": "#2a3f5f"
            },
            "error_y": {
             "color": "#2a3f5f"
            },
            "marker": {
             "line": {
              "color": "#E5ECF6",
              "width": 0.5
             },
             "pattern": {
              "fillmode": "overlay",
              "size": 10,
              "solidity": 0.2
             }
            },
            "type": "bar"
           }
          ],
          "barpolar": [
           {
            "marker": {
             "line": {
              "color": "#E5ECF6",
              "width": 0.5
             },
             "pattern": {
              "fillmode": "overlay",
              "size": 10,
              "solidity": 0.2
             }
            },
            "type": "barpolar"
           }
          ],
          "carpet": [
           {
            "aaxis": {
             "endlinecolor": "#2a3f5f",
             "gridcolor": "white",
             "linecolor": "white",
             "minorgridcolor": "white",
             "startlinecolor": "#2a3f5f"
            },
            "baxis": {
             "endlinecolor": "#2a3f5f",
             "gridcolor": "white",
             "linecolor": "white",
             "minorgridcolor": "white",
             "startlinecolor": "#2a3f5f"
            },
            "type": "carpet"
           }
          ],
          "choropleth": [
           {
            "colorbar": {
             "outlinewidth": 0,
             "ticks": ""
            },
            "type": "choropleth"
           }
          ],
          "contour": [
           {
            "colorbar": {
             "outlinewidth": 0,
             "ticks": ""
            },
            "colorscale": [
             [
              0,
              "#0d0887"
             ],
             [
              0.1111111111111111,
              "#46039f"
             ],
             [
              0.2222222222222222,
              "#7201a8"
             ],
             [
              0.3333333333333333,
              "#9c179e"
             ],
             [
              0.4444444444444444,
              "#bd3786"
             ],
             [
              0.5555555555555556,
              "#d8576b"
             ],
             [
              0.6666666666666666,
              "#ed7953"
             ],
             [
              0.7777777777777778,
              "#fb9f3a"
             ],
             [
              0.8888888888888888,
              "#fdca26"
             ],
             [
              1,
              "#f0f921"
             ]
            ],
            "type": "contour"
           }
          ],
          "contourcarpet": [
           {
            "colorbar": {
             "outlinewidth": 0,
             "ticks": ""
            },
            "type": "contourcarpet"
           }
          ],
          "heatmap": [
           {
            "colorbar": {
             "outlinewidth": 0,
             "ticks": ""
            },
            "colorscale": [
             [
              0,
              "#0d0887"
             ],
             [
              0.1111111111111111,
              "#46039f"
             ],
             [
              0.2222222222222222,
              "#7201a8"
             ],
             [
              0.3333333333333333,
              "#9c179e"
             ],
             [
              0.4444444444444444,
              "#bd3786"
             ],
             [
              0.5555555555555556,
              "#d8576b"
             ],
             [
              0.6666666666666666,
              "#ed7953"
             ],
             [
              0.7777777777777778,
              "#fb9f3a"
             ],
             [
              0.8888888888888888,
              "#fdca26"
             ],
             [
              1,
              "#f0f921"
             ]
            ],
            "type": "heatmap"
           }
          ],
          "heatmapgl": [
           {
            "colorbar": {
             "outlinewidth": 0,
             "ticks": ""
            },
            "colorscale": [
             [
              0,
              "#0d0887"
             ],
             [
              0.1111111111111111,
              "#46039f"
             ],
             [
              0.2222222222222222,
              "#7201a8"
             ],
             [
              0.3333333333333333,
              "#9c179e"
             ],
             [
              0.4444444444444444,
              "#bd3786"
             ],
             [
              0.5555555555555556,
              "#d8576b"
             ],
             [
              0.6666666666666666,
              "#ed7953"
             ],
             [
              0.7777777777777778,
              "#fb9f3a"
             ],
             [
              0.8888888888888888,
              "#fdca26"
             ],
             [
              1,
              "#f0f921"
             ]
            ],
            "type": "heatmapgl"
           }
          ],
          "histogram": [
           {
            "marker": {
             "pattern": {
              "fillmode": "overlay",
              "size": 10,
              "solidity": 0.2
             }
            },
            "type": "histogram"
           }
          ],
          "histogram2d": [
           {
            "colorbar": {
             "outlinewidth": 0,
             "ticks": ""
            },
            "colorscale": [
             [
              0,
              "#0d0887"
             ],
             [
              0.1111111111111111,
              "#46039f"
             ],
             [
              0.2222222222222222,
              "#7201a8"
             ],
             [
              0.3333333333333333,
              "#9c179e"
             ],
             [
              0.4444444444444444,
              "#bd3786"
             ],
             [
              0.5555555555555556,
              "#d8576b"
             ],
             [
              0.6666666666666666,
              "#ed7953"
             ],
             [
              0.7777777777777778,
              "#fb9f3a"
             ],
             [
              0.8888888888888888,
              "#fdca26"
             ],
             [
              1,
              "#f0f921"
             ]
            ],
            "type": "histogram2d"
           }
          ],
          "histogram2dcontour": [
           {
            "colorbar": {
             "outlinewidth": 0,
             "ticks": ""
            },
            "colorscale": [
             [
              0,
              "#0d0887"
             ],
             [
              0.1111111111111111,
              "#46039f"
             ],
             [
              0.2222222222222222,
              "#7201a8"
             ],
             [
              0.3333333333333333,
              "#9c179e"
             ],
             [
              0.4444444444444444,
              "#bd3786"
             ],
             [
              0.5555555555555556,
              "#d8576b"
             ],
             [
              0.6666666666666666,
              "#ed7953"
             ],
             [
              0.7777777777777778,
              "#fb9f3a"
             ],
             [
              0.8888888888888888,
              "#fdca26"
             ],
             [
              1,
              "#f0f921"
             ]
            ],
            "type": "histogram2dcontour"
           }
          ],
          "mesh3d": [
           {
            "colorbar": {
             "outlinewidth": 0,
             "ticks": ""
            },
            "type": "mesh3d"
           }
          ],
          "parcoords": [
           {
            "line": {
             "colorbar": {
              "outlinewidth": 0,
              "ticks": ""
             }
            },
            "type": "parcoords"
           }
          ],
          "pie": [
           {
            "automargin": true,
            "type": "pie"
           }
          ],
          "scatter": [
           {
            "marker": {
             "colorbar": {
              "outlinewidth": 0,
              "ticks": ""
             }
            },
            "type": "scatter"
           }
          ],
          "scatter3d": [
           {
            "line": {
             "colorbar": {
              "outlinewidth": 0,
              "ticks": ""
             }
            },
            "marker": {
             "colorbar": {
              "outlinewidth": 0,
              "ticks": ""
             }
            },
            "type": "scatter3d"
           }
          ],
          "scattercarpet": [
           {
            "marker": {
             "colorbar": {
              "outlinewidth": 0,
              "ticks": ""
             }
            },
            "type": "scattercarpet"
           }
          ],
          "scattergeo": [
           {
            "marker": {
             "colorbar": {
              "outlinewidth": 0,
              "ticks": ""
             }
            },
            "type": "scattergeo"
           }
          ],
          "scattergl": [
           {
            "marker": {
             "colorbar": {
              "outlinewidth": 0,
              "ticks": ""
             }
            },
            "type": "scattergl"
           }
          ],
          "scattermapbox": [
           {
            "marker": {
             "colorbar": {
              "outlinewidth": 0,
              "ticks": ""
             }
            },
            "type": "scattermapbox"
           }
          ],
          "scatterpolar": [
           {
            "marker": {
             "colorbar": {
              "outlinewidth": 0,
              "ticks": ""
             }
            },
            "type": "scatterpolar"
           }
          ],
          "scatterpolargl": [
           {
            "marker": {
             "colorbar": {
              "outlinewidth": 0,
              "ticks": ""
             }
            },
            "type": "scatterpolargl"
           }
          ],
          "scatterternary": [
           {
            "marker": {
             "colorbar": {
              "outlinewidth": 0,
              "ticks": ""
             }
            },
            "type": "scatterternary"
           }
          ],
          "surface": [
           {
            "colorbar": {
             "outlinewidth": 0,
             "ticks": ""
            },
            "colorscale": [
             [
              0,
              "#0d0887"
             ],
             [
              0.1111111111111111,
              "#46039f"
             ],
             [
              0.2222222222222222,
              "#7201a8"
             ],
             [
              0.3333333333333333,
              "#9c179e"
             ],
             [
              0.4444444444444444,
              "#bd3786"
             ],
             [
              0.5555555555555556,
              "#d8576b"
             ],
             [
              0.6666666666666666,
              "#ed7953"
             ],
             [
              0.7777777777777778,
              "#fb9f3a"
             ],
             [
              0.8888888888888888,
              "#fdca26"
             ],
             [
              1,
              "#f0f921"
             ]
            ],
            "type": "surface"
           }
          ],
          "table": [
           {
            "cells": {
             "fill": {
              "color": "#EBF0F8"
             },
             "line": {
              "color": "white"
             }
            },
            "header": {
             "fill": {
              "color": "#C8D4E3"
             },
             "line": {
              "color": "white"
             }
            },
            "type": "table"
           }
          ]
         },
         "layout": {
          "annotationdefaults": {
           "arrowcolor": "#2a3f5f",
           "arrowhead": 0,
           "arrowwidth": 1
          },
          "autotypenumbers": "strict",
          "coloraxis": {
           "colorbar": {
            "outlinewidth": 0,
            "ticks": ""
           }
          },
          "colorscale": {
           "diverging": [
            [
             0,
             "#8e0152"
            ],
            [
             0.1,
             "#c51b7d"
            ],
            [
             0.2,
             "#de77ae"
            ],
            [
             0.3,
             "#f1b6da"
            ],
            [
             0.4,
             "#fde0ef"
            ],
            [
             0.5,
             "#f7f7f7"
            ],
            [
             0.6,
             "#e6f5d0"
            ],
            [
             0.7,
             "#b8e186"
            ],
            [
             0.8,
             "#7fbc41"
            ],
            [
             0.9,
             "#4d9221"
            ],
            [
             1,
             "#276419"
            ]
           ],
           "sequential": [
            [
             0,
             "#0d0887"
            ],
            [
             0.1111111111111111,
             "#46039f"
            ],
            [
             0.2222222222222222,
             "#7201a8"
            ],
            [
             0.3333333333333333,
             "#9c179e"
            ],
            [
             0.4444444444444444,
             "#bd3786"
            ],
            [
             0.5555555555555556,
             "#d8576b"
            ],
            [
             0.6666666666666666,
             "#ed7953"
            ],
            [
             0.7777777777777778,
             "#fb9f3a"
            ],
            [
             0.8888888888888888,
             "#fdca26"
            ],
            [
             1,
             "#f0f921"
            ]
           ],
           "sequentialminus": [
            [
             0,
             "#0d0887"
            ],
            [
             0.1111111111111111,
             "#46039f"
            ],
            [
             0.2222222222222222,
             "#7201a8"
            ],
            [
             0.3333333333333333,
             "#9c179e"
            ],
            [
             0.4444444444444444,
             "#bd3786"
            ],
            [
             0.5555555555555556,
             "#d8576b"
            ],
            [
             0.6666666666666666,
             "#ed7953"
            ],
            [
             0.7777777777777778,
             "#fb9f3a"
            ],
            [
             0.8888888888888888,
             "#fdca26"
            ],
            [
             1,
             "#f0f921"
            ]
           ]
          },
          "colorway": [
           "#636efa",
           "#EF553B",
           "#00cc96",
           "#ab63fa",
           "#FFA15A",
           "#19d3f3",
           "#FF6692",
           "#B6E880",
           "#FF97FF",
           "#FECB52"
          ],
          "font": {
           "color": "#2a3f5f"
          },
          "geo": {
           "bgcolor": "white",
           "lakecolor": "white",
           "landcolor": "#E5ECF6",
           "showlakes": true,
           "showland": true,
           "subunitcolor": "white"
          },
          "hoverlabel": {
           "align": "left"
          },
          "hovermode": "closest",
          "mapbox": {
           "style": "light"
          },
          "paper_bgcolor": "white",
          "plot_bgcolor": "#E5ECF6",
          "polar": {
           "angularaxis": {
            "gridcolor": "white",
            "linecolor": "white",
            "ticks": ""
           },
           "bgcolor": "#E5ECF6",
           "radialaxis": {
            "gridcolor": "white",
            "linecolor": "white",
            "ticks": ""
           }
          },
          "scene": {
           "xaxis": {
            "backgroundcolor": "#E5ECF6",
            "gridcolor": "white",
            "gridwidth": 2,
            "linecolor": "white",
            "showbackground": true,
            "ticks": "",
            "zerolinecolor": "white"
           },
           "yaxis": {
            "backgroundcolor": "#E5ECF6",
            "gridcolor": "white",
            "gridwidth": 2,
            "linecolor": "white",
            "showbackground": true,
            "ticks": "",
            "zerolinecolor": "white"
           },
           "zaxis": {
            "backgroundcolor": "#E5ECF6",
            "gridcolor": "white",
            "gridwidth": 2,
            "linecolor": "white",
            "showbackground": true,
            "ticks": "",
            "zerolinecolor": "white"
           }
          },
          "shapedefaults": {
           "line": {
            "color": "#2a3f5f"
           }
          },
          "ternary": {
           "aaxis": {
            "gridcolor": "white",
            "linecolor": "white",
            "ticks": ""
           },
           "baxis": {
            "gridcolor": "white",
            "linecolor": "white",
            "ticks": ""
           },
           "bgcolor": "#E5ECF6",
           "caxis": {
            "gridcolor": "white",
            "linecolor": "white",
            "ticks": ""
           }
          },
          "title": {
           "x": 0.05
          },
          "xaxis": {
           "automargin": true,
           "gridcolor": "white",
           "linecolor": "white",
           "ticks": "",
           "title": {
            "standoff": 15
           },
           "zerolinecolor": "white",
           "zerolinewidth": 2
          },
          "yaxis": {
           "automargin": true,
           "gridcolor": "white",
           "linecolor": "white",
           "ticks": "",
           "title": {
            "standoff": 15
           },
           "zerolinecolor": "white",
           "zerolinewidth": 2
          }
         }
        },
        "xaxis": {
         "anchor": "y",
         "domain": [
          0,
          1
         ],
         "title": {
          "text": "stag"
         }
        },
        "yaxis": {
         "anchor": "x",
         "domain": [
          0,
          1
         ],
         "title": {
          "text": "count"
         }
        }
       }
      }
     },
     "metadata": {},
     "output_type": "display_data"
    }
   ],
   "source": [
    "fig = px.histogram(data, x=\"stag\", color='event', barmode='group')\n",
    "fig.show()"
   ]
  },
  {
   "cell_type": "code",
   "execution_count": 18,
   "metadata": {},
   "outputs": [
    {
     "data": {
      "text/plain": [
       "stag           -0.048361\n",
       "event           1.000000\n",
       "age            -0.048751\n",
       "extraversion    0.015458\n",
       "independ        0.051864\n",
       "selfcontrol    -0.040040\n",
       "anxiety        -0.063232\n",
       "novator         0.006825\n",
       "dtype: float64"
      ]
     },
     "execution_count": 18,
     "metadata": {},
     "output_type": "execute_result"
    }
   ],
   "source": [
    "# Correlation of numeric variables with the turnover\n",
    "data.corrwith(data.event)\n",
    "\n"
   ]
  },
  {
   "cell_type": "code",
   "execution_count": 33,
   "metadata": {},
   "outputs": [
    {
     "data": {
      "text/html": [
       "<div>\n",
       "<style scoped>\n",
       "    .dataframe tbody tr th:only-of-type {\n",
       "        vertical-align: middle;\n",
       "    }\n",
       "\n",
       "    .dataframe tbody tr th {\n",
       "        vertical-align: top;\n",
       "    }\n",
       "\n",
       "    .dataframe thead th {\n",
       "        text-align: right;\n",
       "    }\n",
       "</style>\n",
       "<table border=\"1\" class=\"dataframe\">\n",
       "  <thead>\n",
       "    <tr style=\"text-align: right;\">\n",
       "      <th></th>\n",
       "      <th>stag</th>\n",
       "      <th>event</th>\n",
       "      <th>gender=m</th>\n",
       "      <th>age</th>\n",
       "      <th>profession=BusinessDevelopment</th>\n",
       "      <th>profession=Commercial</th>\n",
       "      <th>profession=Consult</th>\n",
       "      <th>profession=Engineer</th>\n",
       "      <th>profession=Finanñe</th>\n",
       "      <th>profession=HR</th>\n",
       "      <th>...</th>\n",
       "      <th>head_gender=m</th>\n",
       "      <th>greywage=white</th>\n",
       "      <th>way=car</th>\n",
       "      <th>way=foot</th>\n",
       "      <th>extraversion</th>\n",
       "      <th>independ</th>\n",
       "      <th>selfcontrol</th>\n",
       "      <th>anxiety</th>\n",
       "      <th>novator</th>\n",
       "      <th>coach_=1</th>\n",
       "    </tr>\n",
       "  </thead>\n",
       "  <tbody>\n",
       "    <tr>\n",
       "      <th>0</th>\n",
       "      <td>7.030801</td>\n",
       "      <td>1</td>\n",
       "      <td>1.0</td>\n",
       "      <td>35.0</td>\n",
       "      <td>0.0</td>\n",
       "      <td>0.0</td>\n",
       "      <td>0.0</td>\n",
       "      <td>0.0</td>\n",
       "      <td>0.0</td>\n",
       "      <td>1.0</td>\n",
       "      <td>...</td>\n",
       "      <td>0.0</td>\n",
       "      <td>1.0</td>\n",
       "      <td>0.0</td>\n",
       "      <td>0.0</td>\n",
       "      <td>6.2</td>\n",
       "      <td>4.1</td>\n",
       "      <td>5.7</td>\n",
       "      <td>7.1</td>\n",
       "      <td>8.3</td>\n",
       "      <td>0.0</td>\n",
       "    </tr>\n",
       "    <tr>\n",
       "      <th>1</th>\n",
       "      <td>22.965092</td>\n",
       "      <td>1</td>\n",
       "      <td>1.0</td>\n",
       "      <td>33.0</td>\n",
       "      <td>0.0</td>\n",
       "      <td>0.0</td>\n",
       "      <td>0.0</td>\n",
       "      <td>0.0</td>\n",
       "      <td>0.0</td>\n",
       "      <td>1.0</td>\n",
       "      <td>...</td>\n",
       "      <td>1.0</td>\n",
       "      <td>1.0</td>\n",
       "      <td>0.0</td>\n",
       "      <td>0.0</td>\n",
       "      <td>6.2</td>\n",
       "      <td>4.1</td>\n",
       "      <td>5.7</td>\n",
       "      <td>7.1</td>\n",
       "      <td>8.3</td>\n",
       "      <td>0.0</td>\n",
       "    </tr>\n",
       "    <tr>\n",
       "      <th>2</th>\n",
       "      <td>15.934292</td>\n",
       "      <td>1</td>\n",
       "      <td>0.0</td>\n",
       "      <td>35.0</td>\n",
       "      <td>0.0</td>\n",
       "      <td>0.0</td>\n",
       "      <td>0.0</td>\n",
       "      <td>0.0</td>\n",
       "      <td>0.0</td>\n",
       "      <td>1.0</td>\n",
       "      <td>...</td>\n",
       "      <td>1.0</td>\n",
       "      <td>1.0</td>\n",
       "      <td>0.0</td>\n",
       "      <td>0.0</td>\n",
       "      <td>6.2</td>\n",
       "      <td>6.2</td>\n",
       "      <td>2.6</td>\n",
       "      <td>4.8</td>\n",
       "      <td>8.3</td>\n",
       "      <td>0.0</td>\n",
       "    </tr>\n",
       "    <tr>\n",
       "      <th>3</th>\n",
       "      <td>15.934292</td>\n",
       "      <td>1</td>\n",
       "      <td>0.0</td>\n",
       "      <td>35.0</td>\n",
       "      <td>0.0</td>\n",
       "      <td>0.0</td>\n",
       "      <td>0.0</td>\n",
       "      <td>0.0</td>\n",
       "      <td>0.0</td>\n",
       "      <td>1.0</td>\n",
       "      <td>...</td>\n",
       "      <td>1.0</td>\n",
       "      <td>1.0</td>\n",
       "      <td>0.0</td>\n",
       "      <td>0.0</td>\n",
       "      <td>5.4</td>\n",
       "      <td>7.6</td>\n",
       "      <td>4.9</td>\n",
       "      <td>2.5</td>\n",
       "      <td>6.7</td>\n",
       "      <td>0.0</td>\n",
       "    </tr>\n",
       "    <tr>\n",
       "      <th>4</th>\n",
       "      <td>8.410678</td>\n",
       "      <td>1</td>\n",
       "      <td>1.0</td>\n",
       "      <td>32.0</td>\n",
       "      <td>0.0</td>\n",
       "      <td>1.0</td>\n",
       "      <td>0.0</td>\n",
       "      <td>0.0</td>\n",
       "      <td>0.0</td>\n",
       "      <td>0.0</td>\n",
       "      <td>...</td>\n",
       "      <td>0.0</td>\n",
       "      <td>1.0</td>\n",
       "      <td>0.0</td>\n",
       "      <td>0.0</td>\n",
       "      <td>3.0</td>\n",
       "      <td>4.1</td>\n",
       "      <td>8.0</td>\n",
       "      <td>7.1</td>\n",
       "      <td>3.7</td>\n",
       "      <td>1.0</td>\n",
       "    </tr>\n",
       "  </tbody>\n",
       "</table>\n",
       "<p>5 rows × 35 columns</p>\n",
       "</div>"
      ],
      "text/plain": [
       "        stag  event  gender=m   age  profession=BusinessDevelopment  \\\n",
       "0   7.030801      1       1.0  35.0                             0.0   \n",
       "1  22.965092      1       1.0  33.0                             0.0   \n",
       "2  15.934292      1       0.0  35.0                             0.0   \n",
       "3  15.934292      1       0.0  35.0                             0.0   \n",
       "4   8.410678      1       1.0  32.0                             0.0   \n",
       "\n",
       "   profession=Commercial  profession=Consult  profession=Engineer  \\\n",
       "0                    0.0                 0.0                  0.0   \n",
       "1                    0.0                 0.0                  0.0   \n",
       "2                    0.0                 0.0                  0.0   \n",
       "3                    0.0                 0.0                  0.0   \n",
       "4                    1.0                 0.0                  0.0   \n",
       "\n",
       "   profession=Finanñe  profession=HR  ...  head_gender=m  greywage=white  \\\n",
       "0                 0.0            1.0  ...            0.0             1.0   \n",
       "1                 0.0            1.0  ...            1.0             1.0   \n",
       "2                 0.0            1.0  ...            1.0             1.0   \n",
       "3                 0.0            1.0  ...            1.0             1.0   \n",
       "4                 0.0            0.0  ...            0.0             1.0   \n",
       "\n",
       "   way=car  way=foot  extraversion  independ  selfcontrol  anxiety  novator  \\\n",
       "0      0.0       0.0           6.2       4.1          5.7      7.1      8.3   \n",
       "1      0.0       0.0           6.2       4.1          5.7      7.1      8.3   \n",
       "2      0.0       0.0           6.2       6.2          2.6      4.8      8.3   \n",
       "3      0.0       0.0           5.4       7.6          4.9      2.5      6.7   \n",
       "4      0.0       0.0           3.0       4.1          8.0      7.1      3.7   \n",
       "\n",
       "   coach_=1  \n",
       "0       0.0  \n",
       "1       0.0  \n",
       "2       0.0  \n",
       "3       0.0  \n",
       "4       1.0  \n",
       "\n",
       "[5 rows x 35 columns]"
      ]
     },
     "execution_count": 33,
     "metadata": {},
     "output_type": "execute_result"
    }
   ],
   "source": [
    "#making dummy \n",
    "data_dummy = OneHotEncoder().fit_transform(data)\n",
    "data_dummy.head()"
   ]
  },
  {
   "cell_type": "code",
   "execution_count": 34,
   "metadata": {},
   "outputs": [
    {
     "data": {
      "text/plain": [
       "<lifelines.KaplanMeierFitter:\"KM_estimate\", fitted with 1129 total observations, 558 right-censored observations>"
      ]
     },
     "execution_count": 34,
     "metadata": {},
     "output_type": "execute_result"
    }
   ],
   "source": [
    "from lifelines import KaplanMeierFitter\n",
    "kmf = KaplanMeierFitter()\n",
    "kmf.fit(data.stag,data. event)"
   ]
  },
  {
   "cell_type": "code",
   "execution_count": 35,
   "metadata": {},
   "outputs": [
    {
     "data": {
      "image/png": "[encoded data removed]",
      "text/plain": [
       "<Figure size 1080x720 with 1 Axes>"
      ]
     },
     "metadata": {
      "needs_background": "light"
     },
     "output_type": "display_data"
    }
   ],
   "source": [
    "\n",
    "#simple plot of the survival function \n",
    "from matplotlib import pyplot as plt\n",
    "kmf.survival_function_.plot(figsize=(15,10))\n",
    "plt.title('Survival function of employee');"
   ]
  },
  {
   "cell_type": "code",
   "execution_count": 36,
   "metadata": {},
   "outputs": [
    {
     "data": {
      "text/plain": [
       "<AxesSubplot:xlabel='timeline'>"
      ]
     },
     "execution_count": 36,
     "metadata": {},
     "output_type": "execute_result"
    },
    {
     "data": {
      "image/png": "[encoded data removed]",
      "text/plain": [
       "<Figure size 1080x720 with 1 Axes>"
      ]
     },
     "metadata": {
      "needs_background": "light"
     },
     "output_type": "display_data"
    }
   ],
   "source": [
    "#survival function with i.c 95%\n",
    "kmf.plot_survival_function(figsize=(15,10))"
   ]
  },
  {
   "cell_type": "code",
   "execution_count": 37,
   "metadata": {},
   "outputs": [
    {
     "data": {
      "text/plain": [
       "50.72689938"
      ]
     },
     "execution_count": 37,
     "metadata": {},
     "output_type": "execute_result"
    }
   ],
   "source": [
    "kmf.median_survival_time_"
   ]
  },
  {
   "cell_type": "code",
   "execution_count": 38,
   "metadata": {},
   "outputs": [
    {
     "data": {
      "text/html": [
       "<div>\n",
       "<style scoped>\n",
       "    .dataframe tbody tr th:only-of-type {\n",
       "        vertical-align: middle;\n",
       "    }\n",
       "\n",
       "    .dataframe tbody tr th {\n",
       "        vertical-align: top;\n",
       "    }\n",
       "\n",
       "    .dataframe thead th {\n",
       "        text-align: right;\n",
       "    }\n",
       "</style>\n",
       "<table border=\"1\" class=\"dataframe\">\n",
       "  <thead>\n",
       "    <tr style=\"text-align: right;\">\n",
       "      <th></th>\n",
       "      <th>KM_estimate_lower_0.95</th>\n",
       "      <th>KM_estimate_upper_0.95</th>\n",
       "    </tr>\n",
       "  </thead>\n",
       "  <tbody>\n",
       "    <tr>\n",
       "      <th>0.5</th>\n",
       "      <td>45.535934</td>\n",
       "      <td>54.01232</td>\n",
       "    </tr>\n",
       "  </tbody>\n",
       "</table>\n",
       "</div>"
      ],
      "text/plain": [
       "     KM_estimate_lower_0.95  KM_estimate_upper_0.95\n",
       "0.5               45.535934                54.01232"
      ]
     },
     "execution_count": 38,
     "metadata": {},
     "output_type": "execute_result"
    }
   ],
   "source": [
    "from lifelines.utils import median_survival_times\n",
    "median_ci = median_survival_times(kmf.confidence_interval_)\n",
    "median_ci"
   ]
  },
  {
   "cell_type": "code",
   "execution_count": 39,
   "metadata": {},
   "outputs": [
    {
     "data": {
      "text/plain": [
       "50.72689938"
      ]
     },
     "execution_count": 39,
     "metadata": {},
     "output_type": "execute_result"
    }
   ],
   "source": [
    "kmf.median_survival_time_"
   ]
  },
  {
   "cell_type": "code",
   "execution_count": 40,
   "metadata": {},
   "outputs": [
    {
     "name": "stderr",
     "output_type": "stream",
     "text": [
      "c:\\Users\\thoma\\anaconda3\\lib\\site-packages\\lifelines\\utils\\printer.py:62: FutureWarning:\n",
      "\n",
      "In future versions `DataFrame.to_latex` is expected to utilise the base implementation of `Styler.to_latex` for formatting and rendering. The arguments signature may therefore change. It is recommended instead to use `DataFrame.style.to_latex` which also contains additional functionality.\n",
      "\n"
     ]
    },
    {
     "data": {
      "text/html": [
       "<div>\n",
       "<style scoped>\n",
       "    .dataframe tbody tr th:only-of-type {\n",
       "        vertical-align: middle;\n",
       "    }\n",
       "\n",
       "    .dataframe tbody tr th {\n",
       "        vertical-align: top;\n",
       "    }\n",
       "\n",
       "    .dataframe thead th {\n",
       "        text-align: right;\n",
       "    }\n",
       "</style>\n",
       "<table border=\"1\" class=\"dataframe\">\n",
       "  <tbody>\n",
       "    <tr>\n",
       "      <th>model</th>\n",
       "      <td>lifelines.CoxPHFitter</td>\n",
       "    </tr>\n",
       "    <tr>\n",
       "      <th>duration col</th>\n",
       "      <td>'stag'</td>\n",
       "    </tr>\n",
       "    <tr>\n",
       "      <th>event col</th>\n",
       "      <td>'event'</td>\n",
       "    </tr>\n",
       "    <tr>\n",
       "      <th>baseline estimation</th>\n",
       "      <td>breslow</td>\n",
       "    </tr>\n",
       "    <tr>\n",
       "      <th>number of observations</th>\n",
       "      <td>1129</td>\n",
       "    </tr>\n",
       "    <tr>\n",
       "      <th>number of events observed</th>\n",
       "      <td>571</td>\n",
       "    </tr>\n",
       "    <tr>\n",
       "      <th>partial log-likelihood</th>\n",
       "      <td>-3414.42</td>\n",
       "    </tr>\n",
       "    <tr>\n",
       "      <th>time fit was run</th>\n",
       "      <td>2022-09-06 18:59:38 UTC</td>\n",
       "    </tr>\n",
       "  </tbody>\n",
       "</table>\n",
       "</div><table border=\"1\" class=\"dataframe\">\n",
       "  <thead>\n",
       "    <tr style=\"text-align: right;\">\n",
       "      <th style=\"min-width: 12px;\"></th>\n",
       "      <th style=\"min-width: 12px;\">coef</th>\n",
       "      <th style=\"min-width: 12px;\">exp(coef)</th>\n",
       "      <th style=\"min-width: 12px;\">se(coef)</th>\n",
       "      <th style=\"min-width: 12px;\">coef lower 95%</th>\n",
       "      <th style=\"min-width: 12px;\">coef upper 95%</th>\n",
       "      <th style=\"min-width: 12px;\">exp(coef) lower 95%</th>\n",
       "      <th style=\"min-width: 12px;\">exp(coef) upper 95%</th>\n",
       "      <th style=\"min-width: 12px;\">cmp to</th>\n",
       "      <th style=\"min-width: 12px;\">z</th>\n",
       "      <th style=\"min-width: 12px;\">p</th>\n",
       "      <th style=\"min-width: 12px;\">-log2(p)</th>\n",
       "    </tr>\n",
       "  </thead>\n",
       "  <tbody>\n",
       "    <tr>\n",
       "      <th>gender=m</th>\n",
       "      <td>-0.12</td>\n",
       "      <td>0.89</td>\n",
       "      <td>0.13</td>\n",
       "      <td>-0.37</td>\n",
       "      <td>0.13</td>\n",
       "      <td>0.69</td>\n",
       "      <td>1.14</td>\n",
       "      <td>0.00</td>\n",
       "      <td>-0.96</td>\n",
       "      <td>0.34</td>\n",
       "      <td>1.57</td>\n",
       "    </tr>\n",
       "    <tr>\n",
       "      <th>age</th>\n",
       "      <td>0.02</td>\n",
       "      <td>1.02</td>\n",
       "      <td>0.01</td>\n",
       "      <td>0.01</td>\n",
       "      <td>0.03</td>\n",
       "      <td>1.01</td>\n",
       "      <td>1.03</td>\n",
       "      <td>0.00</td>\n",
       "      <td>2.98</td>\n",
       "      <td>&lt;0.005</td>\n",
       "      <td>8.44</td>\n",
       "    </tr>\n",
       "    <tr>\n",
       "      <th>profession=BusinessDevelopment</th>\n",
       "      <td>0.55</td>\n",
       "      <td>1.74</td>\n",
       "      <td>0.50</td>\n",
       "      <td>-0.43</td>\n",
       "      <td>1.53</td>\n",
       "      <td>0.65</td>\n",
       "      <td>4.63</td>\n",
       "      <td>0.00</td>\n",
       "      <td>1.11</td>\n",
       "      <td>0.27</td>\n",
       "      <td>1.89</td>\n",
       "    </tr>\n",
       "    <tr>\n",
       "      <th>profession=Commercial</th>\n",
       "      <td>0.96</td>\n",
       "      <td>2.60</td>\n",
       "      <td>0.50</td>\n",
       "      <td>-0.02</td>\n",
       "      <td>1.93</td>\n",
       "      <td>0.98</td>\n",
       "      <td>6.91</td>\n",
       "      <td>0.00</td>\n",
       "      <td>1.92</td>\n",
       "      <td>0.06</td>\n",
       "      <td>4.18</td>\n",
       "    </tr>\n",
       "    <tr>\n",
       "      <th>profession=Consult</th>\n",
       "      <td>0.95</td>\n",
       "      <td>2.58</td>\n",
       "      <td>0.50</td>\n",
       "      <td>-0.03</td>\n",
       "      <td>1.93</td>\n",
       "      <td>0.97</td>\n",
       "      <td>6.90</td>\n",
       "      <td>0.00</td>\n",
       "      <td>1.89</td>\n",
       "      <td>0.06</td>\n",
       "      <td>4.09</td>\n",
       "    </tr>\n",
       "    <tr>\n",
       "      <th>profession=Engineer</th>\n",
       "      <td>1.17</td>\n",
       "      <td>3.22</td>\n",
       "      <td>0.53</td>\n",
       "      <td>0.13</td>\n",
       "      <td>2.21</td>\n",
       "      <td>1.13</td>\n",
       "      <td>9.14</td>\n",
       "      <td>0.00</td>\n",
       "      <td>2.20</td>\n",
       "      <td>0.03</td>\n",
       "      <td>5.16</td>\n",
       "    </tr>\n",
       "    <tr>\n",
       "      <th>profession=Finanñe</th>\n",
       "      <td>0.34</td>\n",
       "      <td>1.41</td>\n",
       "      <td>0.51</td>\n",
       "      <td>-0.66</td>\n",
       "      <td>1.34</td>\n",
       "      <td>0.52</td>\n",
       "      <td>3.83</td>\n",
       "      <td>0.00</td>\n",
       "      <td>0.67</td>\n",
       "      <td>0.50</td>\n",
       "      <td>1.00</td>\n",
       "    </tr>\n",
       "    <tr>\n",
       "      <th>profession=HR</th>\n",
       "      <td>0.38</td>\n",
       "      <td>1.46</td>\n",
       "      <td>0.42</td>\n",
       "      <td>-0.45</td>\n",
       "      <td>1.21</td>\n",
       "      <td>0.64</td>\n",
       "      <td>3.34</td>\n",
       "      <td>0.00</td>\n",
       "      <td>0.89</td>\n",
       "      <td>0.37</td>\n",
       "      <td>1.43</td>\n",
       "    </tr>\n",
       "    <tr>\n",
       "      <th>profession=IT</th>\n",
       "      <td>0.07</td>\n",
       "      <td>1.07</td>\n",
       "      <td>0.48</td>\n",
       "      <td>-0.86</td>\n",
       "      <td>1.01</td>\n",
       "      <td>0.42</td>\n",
       "      <td>2.74</td>\n",
       "      <td>0.00</td>\n",
       "      <td>0.15</td>\n",
       "      <td>0.88</td>\n",
       "      <td>0.18</td>\n",
       "    </tr>\n",
       "    <tr>\n",
       "      <th>profession=Law</th>\n",
       "      <td>0.73</td>\n",
       "      <td>2.08</td>\n",
       "      <td>0.62</td>\n",
       "      <td>-0.48</td>\n",
       "      <td>1.94</td>\n",
       "      <td>0.62</td>\n",
       "      <td>6.99</td>\n",
       "      <td>0.00</td>\n",
       "      <td>1.18</td>\n",
       "      <td>0.24</td>\n",
       "      <td>2.08</td>\n",
       "    </tr>\n",
       "    <tr>\n",
       "      <th>profession=Marketing</th>\n",
       "      <td>0.96</td>\n",
       "      <td>2.62</td>\n",
       "      <td>0.47</td>\n",
       "      <td>0.03</td>\n",
       "      <td>1.89</td>\n",
       "      <td>1.03</td>\n",
       "      <td>6.63</td>\n",
       "      <td>0.00</td>\n",
       "      <td>2.03</td>\n",
       "      <td>0.04</td>\n",
       "      <td>4.56</td>\n",
       "    </tr>\n",
       "    <tr>\n",
       "      <th>profession=PR</th>\n",
       "      <td>1.07</td>\n",
       "      <td>2.92</td>\n",
       "      <td>0.63</td>\n",
       "      <td>-0.15</td>\n",
       "      <td>2.30</td>\n",
       "      <td>0.86</td>\n",
       "      <td>9.95</td>\n",
       "      <td>0.00</td>\n",
       "      <td>1.71</td>\n",
       "      <td>0.09</td>\n",
       "      <td>3.53</td>\n",
       "    </tr>\n",
       "    <tr>\n",
       "      <th>profession=Sales</th>\n",
       "      <td>0.51</td>\n",
       "      <td>1.67</td>\n",
       "      <td>0.46</td>\n",
       "      <td>-0.38</td>\n",
       "      <td>1.41</td>\n",
       "      <td>0.68</td>\n",
       "      <td>4.10</td>\n",
       "      <td>0.00</td>\n",
       "      <td>1.13</td>\n",
       "      <td>0.26</td>\n",
       "      <td>1.94</td>\n",
       "    </tr>\n",
       "    <tr>\n",
       "      <th>profession=Teaching</th>\n",
       "      <td>0.84</td>\n",
       "      <td>2.32</td>\n",
       "      <td>0.52</td>\n",
       "      <td>-0.18</td>\n",
       "      <td>1.86</td>\n",
       "      <td>0.83</td>\n",
       "      <td>6.42</td>\n",
       "      <td>0.00</td>\n",
       "      <td>1.61</td>\n",
       "      <td>0.11</td>\n",
       "      <td>3.23</td>\n",
       "    </tr>\n",
       "    <tr>\n",
       "      <th>profession=etc</th>\n",
       "      <td>0.68</td>\n",
       "      <td>1.97</td>\n",
       "      <td>0.48</td>\n",
       "      <td>-0.26</td>\n",
       "      <td>1.62</td>\n",
       "      <td>0.77</td>\n",
       "      <td>5.03</td>\n",
       "      <td>0.00</td>\n",
       "      <td>1.42</td>\n",
       "      <td>0.16</td>\n",
       "      <td>2.69</td>\n",
       "    </tr>\n",
       "    <tr>\n",
       "      <th>profession=manage</th>\n",
       "      <td>1.28</td>\n",
       "      <td>3.60</td>\n",
       "      <td>0.49</td>\n",
       "      <td>0.32</td>\n",
       "      <td>2.25</td>\n",
       "      <td>1.37</td>\n",
       "      <td>9.44</td>\n",
       "      <td>0.00</td>\n",
       "      <td>2.61</td>\n",
       "      <td>0.01</td>\n",
       "      <td>6.77</td>\n",
       "    </tr>\n",
       "    <tr>\n",
       "      <th>traffic=advert</th>\n",
       "      <td>-0.18</td>\n",
       "      <td>0.83</td>\n",
       "      <td>0.35</td>\n",
       "      <td>-0.86</td>\n",
       "      <td>0.49</td>\n",
       "      <td>0.42</td>\n",
       "      <td>1.64</td>\n",
       "      <td>0.00</td>\n",
       "      <td>-0.53</td>\n",
       "      <td>0.60</td>\n",
       "      <td>0.75</td>\n",
       "    </tr>\n",
       "    <tr>\n",
       "      <th>traffic=empjs</th>\n",
       "      <td>0.70</td>\n",
       "      <td>2.01</td>\n",
       "      <td>0.20</td>\n",
       "      <td>0.31</td>\n",
       "      <td>1.09</td>\n",
       "      <td>1.36</td>\n",
       "      <td>2.97</td>\n",
       "      <td>0.00</td>\n",
       "      <td>3.50</td>\n",
       "      <td>&lt;0.005</td>\n",
       "      <td>11.05</td>\n",
       "    </tr>\n",
       "    <tr>\n",
       "      <th>traffic=friends</th>\n",
       "      <td>0.00</td>\n",
       "      <td>1.00</td>\n",
       "      <td>0.24</td>\n",
       "      <td>-0.46</td>\n",
       "      <td>0.47</td>\n",
       "      <td>0.63</td>\n",
       "      <td>1.59</td>\n",
       "      <td>0.00</td>\n",
       "      <td>0.01</td>\n",
       "      <td>0.99</td>\n",
       "      <td>0.01</td>\n",
       "    </tr>\n",
       "    <tr>\n",
       "      <th>traffic=rabrecNErab</th>\n",
       "      <td>0.39</td>\n",
       "      <td>1.48</td>\n",
       "      <td>0.20</td>\n",
       "      <td>0.00</td>\n",
       "      <td>0.78</td>\n",
       "      <td>1.00</td>\n",
       "      <td>2.18</td>\n",
       "      <td>0.00</td>\n",
       "      <td>1.98</td>\n",
       "      <td>0.05</td>\n",
       "      <td>4.40</td>\n",
       "    </tr>\n",
       "    <tr>\n",
       "      <th>traffic=recNErab</th>\n",
       "      <td>-0.11</td>\n",
       "      <td>0.90</td>\n",
       "      <td>0.30</td>\n",
       "      <td>-0.69</td>\n",
       "      <td>0.48</td>\n",
       "      <td>0.50</td>\n",
       "      <td>1.62</td>\n",
       "      <td>0.00</td>\n",
       "      <td>-0.36</td>\n",
       "      <td>0.72</td>\n",
       "      <td>0.47</td>\n",
       "    </tr>\n",
       "    <tr>\n",
       "      <th>traffic=referal</th>\n",
       "      <td>0.15</td>\n",
       "      <td>1.17</td>\n",
       "      <td>0.22</td>\n",
       "      <td>-0.29</td>\n",
       "      <td>0.59</td>\n",
       "      <td>0.75</td>\n",
       "      <td>1.81</td>\n",
       "      <td>0.00</td>\n",
       "      <td>0.68</td>\n",
       "      <td>0.49</td>\n",
       "      <td>1.02</td>\n",
       "    </tr>\n",
       "    <tr>\n",
       "      <th>traffic=youjs</th>\n",
       "      <td>0.43</td>\n",
       "      <td>1.53</td>\n",
       "      <td>0.20</td>\n",
       "      <td>0.04</td>\n",
       "      <td>0.82</td>\n",
       "      <td>1.04</td>\n",
       "      <td>2.26</td>\n",
       "      <td>0.00</td>\n",
       "      <td>2.16</td>\n",
       "      <td>0.03</td>\n",
       "      <td>5.02</td>\n",
       "    </tr>\n",
       "    <tr>\n",
       "      <th>head_gender=m</th>\n",
       "      <td>0.09</td>\n",
       "      <td>1.09</td>\n",
       "      <td>0.10</td>\n",
       "      <td>-0.11</td>\n",
       "      <td>0.28</td>\n",
       "      <td>0.90</td>\n",
       "      <td>1.32</td>\n",
       "      <td>0.00</td>\n",
       "      <td>0.87</td>\n",
       "      <td>0.38</td>\n",
       "      <td>1.39</td>\n",
       "    </tr>\n",
       "    <tr>\n",
       "      <th>greywage=white</th>\n",
       "      <td>-0.50</td>\n",
       "      <td>0.61</td>\n",
       "      <td>0.13</td>\n",
       "      <td>-0.75</td>\n",
       "      <td>-0.24</td>\n",
       "      <td>0.47</td>\n",
       "      <td>0.79</td>\n",
       "      <td>0.00</td>\n",
       "      <td>-3.77</td>\n",
       "      <td>&lt;0.005</td>\n",
       "      <td>12.59</td>\n",
       "    </tr>\n",
       "    <tr>\n",
       "      <th>way=car</th>\n",
       "      <td>-0.19</td>\n",
       "      <td>0.83</td>\n",
       "      <td>0.10</td>\n",
       "      <td>-0.39</td>\n",
       "      <td>0.00</td>\n",
       "      <td>0.68</td>\n",
       "      <td>1.00</td>\n",
       "      <td>0.00</td>\n",
       "      <td>-1.91</td>\n",
       "      <td>0.06</td>\n",
       "      <td>4.17</td>\n",
       "    </tr>\n",
       "    <tr>\n",
       "      <th>way=foot</th>\n",
       "      <td>-0.35</td>\n",
       "      <td>0.70</td>\n",
       "      <td>0.17</td>\n",
       "      <td>-0.68</td>\n",
       "      <td>-0.02</td>\n",
       "      <td>0.51</td>\n",
       "      <td>0.98</td>\n",
       "      <td>0.00</td>\n",
       "      <td>-2.09</td>\n",
       "      <td>0.04</td>\n",
       "      <td>4.76</td>\n",
       "    </tr>\n",
       "    <tr>\n",
       "      <th>extraversion</th>\n",
       "      <td>0.03</td>\n",
       "      <td>1.03</td>\n",
       "      <td>0.03</td>\n",
       "      <td>-0.04</td>\n",
       "      <td>0.10</td>\n",
       "      <td>0.96</td>\n",
       "      <td>1.10</td>\n",
       "      <td>0.00</td>\n",
       "      <td>0.86</td>\n",
       "      <td>0.39</td>\n",
       "      <td>1.36</td>\n",
       "    </tr>\n",
       "    <tr>\n",
       "      <th>independ</th>\n",
       "      <td>-0.01</td>\n",
       "      <td>0.99</td>\n",
       "      <td>0.03</td>\n",
       "      <td>-0.07</td>\n",
       "      <td>0.06</td>\n",
       "      <td>0.93</td>\n",
       "      <td>1.06</td>\n",
       "      <td>0.00</td>\n",
       "      <td>-0.22</td>\n",
       "      <td>0.82</td>\n",
       "      <td>0.28</td>\n",
       "    </tr>\n",
       "    <tr>\n",
       "      <th>selfcontrol</th>\n",
       "      <td>-0.06</td>\n",
       "      <td>0.94</td>\n",
       "      <td>0.03</td>\n",
       "      <td>-0.13</td>\n",
       "      <td>0.01</td>\n",
       "      <td>0.88</td>\n",
       "      <td>1.01</td>\n",
       "      <td>0.00</td>\n",
       "      <td>-1.79</td>\n",
       "      <td>0.07</td>\n",
       "      <td>3.77</td>\n",
       "    </tr>\n",
       "    <tr>\n",
       "      <th>anxiety</th>\n",
       "      <td>-0.05</td>\n",
       "      <td>0.95</td>\n",
       "      <td>0.03</td>\n",
       "      <td>-0.12</td>\n",
       "      <td>0.02</td>\n",
       "      <td>0.89</td>\n",
       "      <td>1.02</td>\n",
       "      <td>0.00</td>\n",
       "      <td>-1.47</td>\n",
       "      <td>0.14</td>\n",
       "      <td>2.83</td>\n",
       "    </tr>\n",
       "    <tr>\n",
       "      <th>novator</th>\n",
       "      <td>-0.01</td>\n",
       "      <td>0.99</td>\n",
       "      <td>0.03</td>\n",
       "      <td>-0.07</td>\n",
       "      <td>0.05</td>\n",
       "      <td>0.93</td>\n",
       "      <td>1.05</td>\n",
       "      <td>0.00</td>\n",
       "      <td>-0.39</td>\n",
       "      <td>0.70</td>\n",
       "      <td>0.52</td>\n",
       "    </tr>\n",
       "    <tr>\n",
       "      <th>coach_=1</th>\n",
       "      <td>-0.01</td>\n",
       "      <td>0.99</td>\n",
       "      <td>0.10</td>\n",
       "      <td>-0.20</td>\n",
       "      <td>0.18</td>\n",
       "      <td>0.82</td>\n",
       "      <td>1.20</td>\n",
       "      <td>0.00</td>\n",
       "      <td>-0.08</td>\n",
       "      <td>0.93</td>\n",
       "      <td>0.10</td>\n",
       "    </tr>\n",
       "  </tbody>\n",
       "</table><br><div>\n",
       "<style scoped>\n",
       "    .dataframe tbody tr th:only-of-type {\n",
       "        vertical-align: middle;\n",
       "    }\n",
       "\n",
       "    .dataframe tbody tr th {\n",
       "        vertical-align: top;\n",
       "    }\n",
       "\n",
       "    .dataframe thead th {\n",
       "        text-align: right;\n",
       "    }\n",
       "</style>\n",
       "<table border=\"1\" class=\"dataframe\">\n",
       "  <tbody>\n",
       "    <tr>\n",
       "      <th>Concordance</th>\n",
       "      <td>0.64</td>\n",
       "    </tr>\n",
       "    <tr>\n",
       "      <th>Partial AIC</th>\n",
       "      <td>6894.84</td>\n",
       "    </tr>\n",
       "    <tr>\n",
       "      <th>log-likelihood ratio test</th>\n",
       "      <td>111.76 on 33 df</td>\n",
       "    </tr>\n",
       "    <tr>\n",
       "      <th>-log2(p) of ll-ratio test</th>\n",
       "      <td>32.43</td>\n",
       "    </tr>\n",
       "  </tbody>\n",
       "</table>\n",
       "</div>"
      ],
      "text/latex": [
       "\\begin{tabular}{lrrrrrrrrrrr}\n",
       "\\toprule\n",
       "{} &  coef &  exp(coef) &  se(coef) &  coef lower 95\\% &  coef upper 95\\% &  exp(coef) lower 95\\% &  exp(coef) upper 95\\% &  cmp to &     z &    p &  -log2(p) \\\\\n",
       "covariate                      &       &            &           &                 &                 &                      &                      &         &       &      &           \\\\\n",
       "\\midrule\n",
       "gender=m                       & -0.12 &       0.89 &      0.13 &           -0.37 &            0.13 &                 0.69 &                 1.14 &    0.00 & -0.96 & 0.34 &      1.57 \\\\\n",
       "age                            &  0.02 &       1.02 &      0.01 &            0.01 &            0.03 &                 1.01 &                 1.03 &    0.00 &  2.98 & 0.00 &      8.44 \\\\\n",
       "profession=BusinessDevelopment &  0.55 &       1.74 &      0.50 &           -0.43 &            1.53 &                 0.65 &                 4.63 &    0.00 &  1.11 & 0.27 &      1.89 \\\\\n",
       "profession=Commercial          &  0.96 &       2.60 &      0.50 &           -0.02 &            1.93 &                 0.98 &                 6.91 &    0.00 &  1.92 & 0.06 &      4.18 \\\\\n",
       "profession=Consult             &  0.95 &       2.58 &      0.50 &           -0.03 &            1.93 &                 0.97 &                 6.90 &    0.00 &  1.89 & 0.06 &      4.09 \\\\\n",
       "profession=Engineer            &  1.17 &       3.22 &      0.53 &            0.13 &            2.21 &                 1.13 &                 9.14 &    0.00 &  2.20 & 0.03 &      5.16 \\\\\n",
       "profession=Finanñe             &  0.34 &       1.41 &      0.51 &           -0.66 &            1.34 &                 0.52 &                 3.83 &    0.00 &  0.67 & 0.50 &      1.00 \\\\\n",
       "profession=HR                  &  0.38 &       1.46 &      0.42 &           -0.45 &            1.21 &                 0.64 &                 3.34 &    0.00 &  0.89 & 0.37 &      1.43 \\\\\n",
       "profession=IT                  &  0.07 &       1.07 &      0.48 &           -0.86 &            1.01 &                 0.42 &                 2.74 &    0.00 &  0.15 & 0.88 &      0.18 \\\\\n",
       "profession=Law                 &  0.73 &       2.08 &      0.62 &           -0.48 &            1.94 &                 0.62 &                 6.99 &    0.00 &  1.18 & 0.24 &      2.08 \\\\\n",
       "profession=Marketing           &  0.96 &       2.62 &      0.47 &            0.03 &            1.89 &                 1.03 &                 6.63 &    0.00 &  2.03 & 0.04 &      4.56 \\\\\n",
       "profession=PR                  &  1.07 &       2.92 &      0.63 &           -0.15 &            2.30 &                 0.86 &                 9.95 &    0.00 &  1.71 & 0.09 &      3.53 \\\\\n",
       "profession=Sales               &  0.51 &       1.67 &      0.46 &           -0.38 &            1.41 &                 0.68 &                 4.10 &    0.00 &  1.13 & 0.26 &      1.94 \\\\\n",
       "profession=Teaching            &  0.84 &       2.32 &      0.52 &           -0.18 &            1.86 &                 0.83 &                 6.42 &    0.00 &  1.61 & 0.11 &      3.23 \\\\\n",
       "profession=etc                 &  0.68 &       1.97 &      0.48 &           -0.26 &            1.62 &                 0.77 &                 5.03 &    0.00 &  1.42 & 0.16 &      2.69 \\\\\n",
       "profession=manage              &  1.28 &       3.60 &      0.49 &            0.32 &            2.25 &                 1.37 &                 9.44 &    0.00 &  2.61 & 0.01 &      6.77 \\\\\n",
       "traffic=advert                 & -0.18 &       0.83 &      0.35 &           -0.86 &            0.49 &                 0.42 &                 1.64 &    0.00 & -0.53 & 0.60 &      0.75 \\\\\n",
       "traffic=empjs                  &  0.70 &       2.01 &      0.20 &            0.31 &            1.09 &                 1.36 &                 2.97 &    0.00 &  3.50 & 0.00 &     11.05 \\\\\n",
       "traffic=friends                &  0.00 &       1.00 &      0.24 &           -0.46 &            0.47 &                 0.63 &                 1.59 &    0.00 &  0.01 & 0.99 &      0.01 \\\\\n",
       "traffic=rabrecNErab            &  0.39 &       1.48 &      0.20 &            0.00 &            0.78 &                 1.00 &                 2.18 &    0.00 &  1.98 & 0.05 &      4.40 \\\\\n",
       "traffic=recNErab               & -0.11 &       0.90 &      0.30 &           -0.69 &            0.48 &                 0.50 &                 1.62 &    0.00 & -0.36 & 0.72 &      0.47 \\\\\n",
       "traffic=referal                &  0.15 &       1.17 &      0.22 &           -0.29 &            0.59 &                 0.75 &                 1.81 &    0.00 &  0.68 & 0.49 &      1.02 \\\\\n",
       "traffic=youjs                  &  0.43 &       1.53 &      0.20 &            0.04 &            0.82 &                 1.04 &                 2.26 &    0.00 &  2.16 & 0.03 &      5.02 \\\\\n",
       "head\\_gender=m                  &  0.09 &       1.09 &      0.10 &           -0.11 &            0.28 &                 0.90 &                 1.32 &    0.00 &  0.87 & 0.38 &      1.39 \\\\\n",
       "greywage=white                 & -0.50 &       0.61 &      0.13 &           -0.75 &           -0.24 &                 0.47 &                 0.79 &    0.00 & -3.77 & 0.00 &     12.59 \\\\\n",
       "way=car                        & -0.19 &       0.83 &      0.10 &           -0.39 &            0.00 &                 0.68 &                 1.00 &    0.00 & -1.91 & 0.06 &      4.17 \\\\\n",
       "way=foot                       & -0.35 &       0.70 &      0.17 &           -0.68 &           -0.02 &                 0.51 &                 0.98 &    0.00 & -2.09 & 0.04 &      4.76 \\\\\n",
       "extraversion                   &  0.03 &       1.03 &      0.03 &           -0.04 &            0.10 &                 0.96 &                 1.10 &    0.00 &  0.86 & 0.39 &      1.36 \\\\\n",
       "independ                       & -0.01 &       0.99 &      0.03 &           -0.07 &            0.06 &                 0.93 &                 1.06 &    0.00 & -0.22 & 0.82 &      0.28 \\\\\n",
       "selfcontrol                    & -0.06 &       0.94 &      0.03 &           -0.13 &            0.01 &                 0.88 &                 1.01 &    0.00 & -1.79 & 0.07 &      3.77 \\\\\n",
       "anxiety                        & -0.05 &       0.95 &      0.03 &           -0.12 &            0.02 &                 0.89 &                 1.02 &    0.00 & -1.47 & 0.14 &      2.83 \\\\\n",
       "novator                        & -0.01 &       0.99 &      0.03 &           -0.07 &            0.05 &                 0.93 &                 1.05 &    0.00 & -0.39 & 0.70 &      0.52 \\\\\n",
       "coach\\_=1                       & -0.01 &       0.99 &      0.10 &           -0.20 &            0.18 &                 0.82 &                 1.20 &    0.00 & -0.08 & 0.93 &      0.10 \\\\\n",
       "\\bottomrule\n",
       "\\end{tabular}\n"
      ],
      "text/plain": [
       "<lifelines.CoxPHFitter: fitted with 1129 total observations, 558 right-censored observations>\n",
       "             duration col = 'stag'\n",
       "                event col = 'event'\n",
       "      baseline estimation = breslow\n",
       "   number of observations = 1129\n",
       "number of events observed = 571\n",
       "   partial log-likelihood = -3414.42\n",
       "         time fit was run = 2022-09-06 18:59:38 UTC\n",
       "\n",
       "---\n",
       "                                 coef  exp(coef)   se(coef)   coef lower 95%   coef upper 95%  exp(coef) lower 95%  exp(coef) upper 95%\n",
       "covariate                                                                                                                              \n",
       "gender=m                        -0.12       0.89       0.13            -0.37             0.13                 0.69                 1.14\n",
       "age                              0.02       1.02       0.01             0.01             0.03                 1.01                 1.03\n",
       "profession=BusinessDevelopment   0.55       1.74       0.50            -0.43             1.53                 0.65                 4.63\n",
       "profession=Commercial            0.96       2.60       0.50            -0.02             1.93                 0.98                 6.91\n",
       "profession=Consult               0.95       2.58       0.50            -0.03             1.93                 0.97                 6.90\n",
       "profession=Engineer              1.17       3.22       0.53             0.13             2.21                 1.13                 9.14\n",
       "profession=Finanñe               0.34       1.41       0.51            -0.66             1.34                 0.52                 3.83\n",
       "profession=HR                    0.38       1.46       0.42            -0.45             1.21                 0.64                 3.34\n",
       "profession=IT                    0.07       1.07       0.48            -0.86             1.01                 0.42                 2.74\n",
       "profession=Law                   0.73       2.08       0.62            -0.48             1.94                 0.62                 6.99\n",
       "profession=Marketing             0.96       2.62       0.47             0.03             1.89                 1.03                 6.63\n",
       "profession=PR                    1.07       2.92       0.63            -0.15             2.30                 0.86                 9.95\n",
       "profession=Sales                 0.51       1.67       0.46            -0.38             1.41                 0.68                 4.10\n",
       "profession=Teaching              0.84       2.32       0.52            -0.18             1.86                 0.83                 6.42\n",
       "profession=etc                   0.68       1.97       0.48            -0.26             1.62                 0.77                 5.03\n",
       "profession=manage                1.28       3.60       0.49             0.32             2.25                 1.37                 9.44\n",
       "traffic=advert                  -0.18       0.83       0.35            -0.86             0.49                 0.42                 1.64\n",
       "traffic=empjs                    0.70       2.01       0.20             0.31             1.09                 1.36                 2.97\n",
       "traffic=friends                  0.00       1.00       0.24            -0.46             0.47                 0.63                 1.59\n",
       "traffic=rabrecNErab              0.39       1.48       0.20             0.00             0.78                 1.00                 2.18\n",
       "traffic=recNErab                -0.11       0.90       0.30            -0.69             0.48                 0.50                 1.62\n",
       "traffic=referal                  0.15       1.17       0.22            -0.29             0.59                 0.75                 1.81\n",
       "traffic=youjs                    0.43       1.53       0.20             0.04             0.82                 1.04                 2.26\n",
       "head_gender=m                    0.09       1.09       0.10            -0.11             0.28                 0.90                 1.32\n",
       "greywage=white                  -0.50       0.61       0.13            -0.75            -0.24                 0.47                 0.79\n",
       "way=car                         -0.19       0.83       0.10            -0.39             0.00                 0.68                 1.00\n",
       "way=foot                        -0.35       0.70       0.17            -0.68            -0.02                 0.51                 0.98\n",
       "extraversion                     0.03       1.03       0.03            -0.04             0.10                 0.96                 1.10\n",
       "independ                        -0.01       0.99       0.03            -0.07             0.06                 0.93                 1.06\n",
       "selfcontrol                     -0.06       0.94       0.03            -0.13             0.01                 0.88                 1.01\n",
       "anxiety                         -0.05       0.95       0.03            -0.12             0.02                 0.89                 1.02\n",
       "novator                         -0.01       0.99       0.03            -0.07             0.05                 0.93                 1.05\n",
       "coach_=1                        -0.01       0.99       0.10            -0.20             0.18                 0.82                 1.20\n",
       "\n",
       "                                 cmp to     z      p   -log2(p)\n",
       "covariate                                                      \n",
       "gender=m                           0.00 -0.96   0.34       1.57\n",
       "age                                0.00  2.98 <0.005       8.44\n",
       "profession=BusinessDevelopment     0.00  1.11   0.27       1.89\n",
       "profession=Commercial              0.00  1.92   0.06       4.18\n",
       "profession=Consult                 0.00  1.89   0.06       4.09\n",
       "profession=Engineer                0.00  2.20   0.03       5.16\n",
       "profession=Finanñe                 0.00  0.67   0.50       1.00\n",
       "profession=HR                      0.00  0.89   0.37       1.43\n",
       "profession=IT                      0.00  0.15   0.88       0.18\n",
       "profession=Law                     0.00  1.18   0.24       2.08\n",
       "profession=Marketing               0.00  2.03   0.04       4.56\n",
       "profession=PR                      0.00  1.71   0.09       3.53\n",
       "profession=Sales                   0.00  1.13   0.26       1.94\n",
       "profession=Teaching                0.00  1.61   0.11       3.23\n",
       "profession=etc                     0.00  1.42   0.16       2.69\n",
       "profession=manage                  0.00  2.61   0.01       6.77\n",
       "traffic=advert                     0.00 -0.53   0.60       0.75\n",
       "traffic=empjs                      0.00  3.50 <0.005      11.05\n",
       "traffic=friends                    0.00  0.01   0.99       0.01\n",
       "traffic=rabrecNErab                0.00  1.98   0.05       4.40\n",
       "traffic=recNErab                   0.00 -0.36   0.72       0.47\n",
       "traffic=referal                    0.00  0.68   0.49       1.02\n",
       "traffic=youjs                      0.00  2.16   0.03       5.02\n",
       "head_gender=m                      0.00  0.87   0.38       1.39\n",
       "greywage=white                     0.00 -3.77 <0.005      12.59\n",
       "way=car                            0.00 -1.91   0.06       4.17\n",
       "way=foot                           0.00 -2.09   0.04       4.76\n",
       "extraversion                       0.00  0.86   0.39       1.36\n",
       "independ                           0.00 -0.22   0.82       0.28\n",
       "selfcontrol                        0.00 -1.79   0.07       3.77\n",
       "anxiety                            0.00 -1.47   0.14       2.83\n",
       "novator                            0.00 -0.39   0.70       0.52\n",
       "coach_=1                           0.00 -0.08   0.93       0.10\n",
       "---\n",
       "Concordance = 0.64\n",
       "Partial AIC = 6894.84\n",
       "log-likelihood ratio test = 111.76 on 33 df\n",
       "-log2(p) of ll-ratio test = 32.43"
      ]
     },
     "metadata": {},
     "output_type": "display_data"
    }
   ],
   "source": [
    "from lifelines import CoxPHFitter\n",
    "cph = CoxPHFitter()\n",
    "cph.fit(data_dummy, duration_col='stag', event_col='event')\n",
    "\n",
    "cph.print_summary() \n"
   ]
  },
  {
   "cell_type": "code",
   "execution_count": 41,
   "metadata": {},
   "outputs": [
    {
     "data": {
      "text/plain": [
       "<AxesSubplot:>"
      ]
     },
     "execution_count": 41,
     "metadata": {},
     "output_type": "execute_result"
    },
    {
     "data": {
      "image/png": "[encoded data removed]",
      "text/plain": [
       "<Figure size 432x288 with 1 Axes>"
      ]
     },
     "metadata": {
      "needs_background": "light"
     },
     "output_type": "display_data"
    }
   ],
   "source": [
    "cph.plot_partial_effects_on_outcome(covariates='selfcontrol', values=[0,10], cmap='coolwarm')\n"
   ]
  },
  {
   "cell_type": "code",
   "execution_count": 42,
   "metadata": {},
   "outputs": [
    {
     "data": {
      "text/plain": [
       "<AxesSubplot:>"
      ]
     },
     "execution_count": 42,
     "metadata": {},
     "output_type": "execute_result"
    },
    {
     "data": {
      "image/png": "[encoded data removed]",
      "text/plain": [
       "<Figure size 432x288 with 1 Axes>"
      ]
     },
     "metadata": {
      "needs_background": "light"
     },
     "output_type": "display_data"
    }
   ],
   "source": [
    "cph.plot_partial_effects_on_outcome(covariates='extraversion', values=[0,10], cmap='coolwarm')"
   ]
  },
  {
   "cell_type": "code",
   "execution_count": 43,
   "metadata": {},
   "outputs": [
    {
     "data": {
      "text/plain": [
       "<AxesSubplot:>"
      ]
     },
     "execution_count": 43,
     "metadata": {},
     "output_type": "execute_result"
    },
    {
     "data": {
      "image/png": "[encoded data removed]",
      "text/plain": [
       "<Figure size 432x288 with 1 Axes>"
      ]
     },
     "metadata": {
      "needs_background": "light"
     },
     "output_type": "display_data"
    }
   ],
   "source": [
    "cph.plot_partial_effects_on_outcome(covariates='age', values=[25,35,45,55], cmap='coolwarm')"
   ]
  },
  {
   "cell_type": "code",
   "execution_count": 44,
   "metadata": {},
   "outputs": [],
   "source": [
    "\n",
    "# filter down to just censored subjects\n",
    "censored_subjects = data_dummy.loc[~data_dummy['event'].astype(bool)]\n",
    "censored_subjects_last_obs = censored_subjects['stag']"
   ]
  },
  {
   "cell_type": "code",
   "execution_count": 122,
   "metadata": {},
   "outputs": [
    {
     "data": {
      "text/html": [
       "<div>\n",
       "<style scoped>\n",
       "    .dataframe tbody tr th:only-of-type {\n",
       "        vertical-align: middle;\n",
       "    }\n",
       "\n",
       "    .dataframe tbody tr th {\n",
       "        vertical-align: top;\n",
       "    }\n",
       "\n",
       "    .dataframe thead th {\n",
       "        text-align: right;\n",
       "    }\n",
       "</style>\n",
       "<table border=\"1\" class=\"dataframe\">\n",
       "  <thead>\n",
       "    <tr style=\"text-align: right;\">\n",
       "      <th></th>\n",
       "      <th>stag</th>\n",
       "      <th>event</th>\n",
       "      <th>gender=m</th>\n",
       "      <th>age</th>\n",
       "      <th>traffic=advert</th>\n",
       "      <th>traffic=empjs</th>\n",
       "      <th>traffic=friends</th>\n",
       "      <th>traffic=rabrecNErab</th>\n",
       "      <th>traffic=recNErab</th>\n",
       "      <th>traffic=referal</th>\n",
       "      <th>...</th>\n",
       "      <th>greywage=white</th>\n",
       "      <th>way=car</th>\n",
       "      <th>way=foot</th>\n",
       "      <th>extraversion</th>\n",
       "      <th>independ</th>\n",
       "      <th>selfcontrol</th>\n",
       "      <th>anxiety</th>\n",
       "      <th>novator</th>\n",
       "      <th>has_coach</th>\n",
       "      <th>median_remaining_lifetime</th>\n",
       "    </tr>\n",
       "  </thead>\n",
       "  <tbody>\n",
       "    <tr>\n",
       "      <th>366</th>\n",
       "      <td>164.566735</td>\n",
       "      <td>0</td>\n",
       "      <td>0.0</td>\n",
       "      <td>27.0</td>\n",
       "      <td>1.0</td>\n",
       "      <td>0.0</td>\n",
       "      <td>0.0</td>\n",
       "      <td>0.0</td>\n",
       "      <td>0.0</td>\n",
       "      <td>0.0</td>\n",
       "      <td>...</td>\n",
       "      <td>1.0</td>\n",
       "      <td>1.0</td>\n",
       "      <td>0.0</td>\n",
       "      <td>3.8</td>\n",
       "      <td>4.8</td>\n",
       "      <td>4.9</td>\n",
       "      <td>6.3</td>\n",
       "      <td>5.2</td>\n",
       "      <td>0</td>\n",
       "      <td>1.708419</td>\n",
       "    </tr>\n",
       "    <tr>\n",
       "      <th>675</th>\n",
       "      <td>163.778234</td>\n",
       "      <td>0</td>\n",
       "      <td>1.0</td>\n",
       "      <td>23.0</td>\n",
       "      <td>0.0</td>\n",
       "      <td>1.0</td>\n",
       "      <td>0.0</td>\n",
       "      <td>0.0</td>\n",
       "      <td>0.0</td>\n",
       "      <td>0.0</td>\n",
       "      <td>...</td>\n",
       "      <td>1.0</td>\n",
       "      <td>1.0</td>\n",
       "      <td>0.0</td>\n",
       "      <td>5.4</td>\n",
       "      <td>7.6</td>\n",
       "      <td>5.7</td>\n",
       "      <td>7.1</td>\n",
       "      <td>6.0</td>\n",
       "      <td>0</td>\n",
       "      <td>2.266940</td>\n",
       "    </tr>\n",
       "    <tr>\n",
       "      <th>674</th>\n",
       "      <td>163.778234</td>\n",
       "      <td>0</td>\n",
       "      <td>1.0</td>\n",
       "      <td>23.0</td>\n",
       "      <td>0.0</td>\n",
       "      <td>1.0</td>\n",
       "      <td>0.0</td>\n",
       "      <td>0.0</td>\n",
       "      <td>0.0</td>\n",
       "      <td>0.0</td>\n",
       "      <td>...</td>\n",
       "      <td>1.0</td>\n",
       "      <td>1.0</td>\n",
       "      <td>0.0</td>\n",
       "      <td>4.6</td>\n",
       "      <td>6.2</td>\n",
       "      <td>8.0</td>\n",
       "      <td>7.1</td>\n",
       "      <td>5.2</td>\n",
       "      <td>0</td>\n",
       "      <td>2.365503</td>\n",
       "    </tr>\n",
       "    <tr>\n",
       "      <th>786</th>\n",
       "      <td>155.367557</td>\n",
       "      <td>0</td>\n",
       "      <td>0.0</td>\n",
       "      <td>30.0</td>\n",
       "      <td>0.0</td>\n",
       "      <td>0.0</td>\n",
       "      <td>0.0</td>\n",
       "      <td>0.0</td>\n",
       "      <td>0.0</td>\n",
       "      <td>1.0</td>\n",
       "      <td>...</td>\n",
       "      <td>1.0</td>\n",
       "      <td>0.0</td>\n",
       "      <td>1.0</td>\n",
       "      <td>5.4</td>\n",
       "      <td>6.9</td>\n",
       "      <td>2.6</td>\n",
       "      <td>5.6</td>\n",
       "      <td>8.3</td>\n",
       "      <td>1</td>\n",
       "      <td>10.349076</td>\n",
       "    </tr>\n",
       "    <tr>\n",
       "      <th>1127</th>\n",
       "      <td>49.412731</td>\n",
       "      <td>0</td>\n",
       "      <td>0.0</td>\n",
       "      <td>51.0</td>\n",
       "      <td>0.0</td>\n",
       "      <td>1.0</td>\n",
       "      <td>0.0</td>\n",
       "      <td>0.0</td>\n",
       "      <td>0.0</td>\n",
       "      <td>0.0</td>\n",
       "      <td>...</td>\n",
       "      <td>0.0</td>\n",
       "      <td>0.0</td>\n",
       "      <td>0.0</td>\n",
       "      <td>3.8</td>\n",
       "      <td>7.6</td>\n",
       "      <td>5.7</td>\n",
       "      <td>6.3</td>\n",
       "      <td>5.2</td>\n",
       "      <td>0</td>\n",
       "      <td>10.480493</td>\n",
       "    </tr>\n",
       "    <tr>\n",
       "      <th>...</th>\n",
       "      <td>...</td>\n",
       "      <td>...</td>\n",
       "      <td>...</td>\n",
       "      <td>...</td>\n",
       "      <td>...</td>\n",
       "      <td>...</td>\n",
       "      <td>...</td>\n",
       "      <td>...</td>\n",
       "      <td>...</td>\n",
       "      <td>...</td>\n",
       "      <td>...</td>\n",
       "      <td>...</td>\n",
       "      <td>...</td>\n",
       "      <td>...</td>\n",
       "      <td>...</td>\n",
       "      <td>...</td>\n",
       "      <td>...</td>\n",
       "      <td>...</td>\n",
       "      <td>...</td>\n",
       "      <td>...</td>\n",
       "      <td>...</td>\n",
       "    </tr>\n",
       "    <tr>\n",
       "      <th>552</th>\n",
       "      <td>39.293635</td>\n",
       "      <td>0</td>\n",
       "      <td>1.0</td>\n",
       "      <td>21.0</td>\n",
       "      <td>0.0</td>\n",
       "      <td>0.0</td>\n",
       "      <td>1.0</td>\n",
       "      <td>0.0</td>\n",
       "      <td>0.0</td>\n",
       "      <td>0.0</td>\n",
       "      <td>...</td>\n",
       "      <td>1.0</td>\n",
       "      <td>0.0</td>\n",
       "      <td>1.0</td>\n",
       "      <td>3.8</td>\n",
       "      <td>5.5</td>\n",
       "      <td>5.7</td>\n",
       "      <td>7.9</td>\n",
       "      <td>3.7</td>\n",
       "      <td>1</td>\n",
       "      <td>105.166324</td>\n",
       "    </tr>\n",
       "    <tr>\n",
       "      <th>310</th>\n",
       "      <td>27.597536</td>\n",
       "      <td>0</td>\n",
       "      <td>0.0</td>\n",
       "      <td>26.0</td>\n",
       "      <td>0.0</td>\n",
       "      <td>0.0</td>\n",
       "      <td>0.0</td>\n",
       "      <td>0.0</td>\n",
       "      <td>1.0</td>\n",
       "      <td>0.0</td>\n",
       "      <td>...</td>\n",
       "      <td>1.0</td>\n",
       "      <td>0.0</td>\n",
       "      <td>0.0</td>\n",
       "      <td>3.8</td>\n",
       "      <td>4.1</td>\n",
       "      <td>8.7</td>\n",
       "      <td>7.9</td>\n",
       "      <td>5.2</td>\n",
       "      <td>0</td>\n",
       "      <td>105.823409</td>\n",
       "    </tr>\n",
       "    <tr>\n",
       "      <th>1049</th>\n",
       "      <td>25.987680</td>\n",
       "      <td>0</td>\n",
       "      <td>1.0</td>\n",
       "      <td>23.0</td>\n",
       "      <td>1.0</td>\n",
       "      <td>0.0</td>\n",
       "      <td>0.0</td>\n",
       "      <td>0.0</td>\n",
       "      <td>0.0</td>\n",
       "      <td>0.0</td>\n",
       "      <td>...</td>\n",
       "      <td>1.0</td>\n",
       "      <td>0.0</td>\n",
       "      <td>1.0</td>\n",
       "      <td>6.2</td>\n",
       "      <td>6.2</td>\n",
       "      <td>7.2</td>\n",
       "      <td>4.8</td>\n",
       "      <td>5.2</td>\n",
       "      <td>1</td>\n",
       "      <td>108.550308</td>\n",
       "    </tr>\n",
       "    <tr>\n",
       "      <th>826</th>\n",
       "      <td>12.320329</td>\n",
       "      <td>0</td>\n",
       "      <td>1.0</td>\n",
       "      <td>28.0</td>\n",
       "      <td>0.0</td>\n",
       "      <td>0.0</td>\n",
       "      <td>1.0</td>\n",
       "      <td>0.0</td>\n",
       "      <td>0.0</td>\n",
       "      <td>0.0</td>\n",
       "      <td>...</td>\n",
       "      <td>1.0</td>\n",
       "      <td>0.0</td>\n",
       "      <td>1.0</td>\n",
       "      <td>2.2</td>\n",
       "      <td>5.5</td>\n",
       "      <td>8.7</td>\n",
       "      <td>5.6</td>\n",
       "      <td>6.0</td>\n",
       "      <td>0</td>\n",
       "      <td>123.071869</td>\n",
       "    </tr>\n",
       "    <tr>\n",
       "      <th>641</th>\n",
       "      <td>179.449692</td>\n",
       "      <td>0</td>\n",
       "      <td>0.0</td>\n",
       "      <td>24.0</td>\n",
       "      <td>0.0</td>\n",
       "      <td>0.0</td>\n",
       "      <td>0.0</td>\n",
       "      <td>0.0</td>\n",
       "      <td>0.0</td>\n",
       "      <td>0.0</td>\n",
       "      <td>...</td>\n",
       "      <td>1.0</td>\n",
       "      <td>0.0</td>\n",
       "      <td>0.0</td>\n",
       "      <td>7.0</td>\n",
       "      <td>4.8</td>\n",
       "      <td>2.6</td>\n",
       "      <td>5.6</td>\n",
       "      <td>8.3</td>\n",
       "      <td>0</td>\n",
       "      <td>inf</td>\n",
       "    </tr>\n",
       "  </tbody>\n",
       "</table>\n",
       "<p>558 rows × 22 columns</p>\n",
       "</div>"
      ],
      "text/plain": [
       "            stag  event  gender=m   age  traffic=advert  traffic=empjs  \\\n",
       "366   164.566735      0       0.0  27.0             1.0            0.0   \n",
       "675   163.778234      0       1.0  23.0             0.0            1.0   \n",
       "674   163.778234      0       1.0  23.0             0.0            1.0   \n",
       "786   155.367557      0       0.0  30.0             0.0            0.0   \n",
       "1127   49.412731      0       0.0  51.0             0.0            1.0   \n",
       "...          ...    ...       ...   ...             ...            ...   \n",
       "552    39.293635      0       1.0  21.0             0.0            0.0   \n",
       "310    27.597536      0       0.0  26.0             0.0            0.0   \n",
       "1049   25.987680      0       1.0  23.0             1.0            0.0   \n",
       "826    12.320329      0       1.0  28.0             0.0            0.0   \n",
       "641   179.449692      0       0.0  24.0             0.0            0.0   \n",
       "\n",
       "      traffic=friends  traffic=rabrecNErab  traffic=recNErab  traffic=referal  \\\n",
       "366               0.0                  0.0               0.0              0.0   \n",
       "675               0.0                  0.0               0.0              0.0   \n",
       "674               0.0                  0.0               0.0              0.0   \n",
       "786               0.0                  0.0               0.0              1.0   \n",
       "1127              0.0                  0.0               0.0              0.0   \n",
       "...               ...                  ...               ...              ...   \n",
       "552               1.0                  0.0               0.0              0.0   \n",
       "310               0.0                  0.0               1.0              0.0   \n",
       "1049              0.0                  0.0               0.0              0.0   \n",
       "826               1.0                  0.0               0.0              0.0   \n",
       "641               0.0                  0.0               0.0              0.0   \n",
       "\n",
       "      ...  greywage=white  way=car  way=foot  extraversion  independ  \\\n",
       "366   ...             1.0      1.0       0.0           3.8       4.8   \n",
       "675   ...             1.0      1.0       0.0           5.4       7.6   \n",
       "674   ...             1.0      1.0       0.0           4.6       6.2   \n",
       "786   ...             1.0      0.0       1.0           5.4       6.9   \n",
       "1127  ...             0.0      0.0       0.0           3.8       7.6   \n",
       "...   ...             ...      ...       ...           ...       ...   \n",
       "552   ...             1.0      0.0       1.0           3.8       5.5   \n",
       "310   ...             1.0      0.0       0.0           3.8       4.1   \n",
       "1049  ...             1.0      0.0       1.0           6.2       6.2   \n",
       "826   ...             1.0      0.0       1.0           2.2       5.5   \n",
       "641   ...             1.0      0.0       0.0           7.0       4.8   \n",
       "\n",
       "      selfcontrol  anxiety  novator  has_coach  median_remaining_lifetime  \n",
       "366           4.9      6.3      5.2          0                   1.708419  \n",
       "675           5.7      7.1      6.0          0                   2.266940  \n",
       "674           8.0      7.1      5.2          0                   2.365503  \n",
       "786           2.6      5.6      8.3          1                  10.349076  \n",
       "1127          5.7      6.3      5.2          0                  10.480493  \n",
       "...           ...      ...      ...        ...                        ...  \n",
       "552           5.7      7.9      3.7          1                 105.166324  \n",
       "310           8.7      7.9      5.2          0                 105.823409  \n",
       "1049          7.2      4.8      5.2          1                 108.550308  \n",
       "826           8.7      5.6      6.0          0                 123.071869  \n",
       "641           2.6      5.6      8.3          0                        inf  \n",
       "\n",
       "[558 rows x 22 columns]"
      ]
     },
     "execution_count": 122,
     "metadata": {},
     "output_type": "execute_result"
    }
   ],
   "source": [
    "prediction = censored_subjects.copy()\n",
    "prediction['median_remaining_lifetime'] = cph.predict_median(censored_subjects, conditional_after=censored_subjects_last_obs)\n",
    "prediction.sort_values(['median_remaining_lifetime','stag'])"
   ]
  }
 ],
 "metadata": {
  "kernelspec": {
   "display_name": "Python 3.9.12 ('base')",
   "language": "python",
   "name": "python3"
  },
  "language_info": {
   "codemirror_mode": {
    "name": "ipython",
    "version": 3
   },
   "file_extension": ".py",
   "mimetype": "text/x-python",
   "name": "python",
   "nbconvert_exporter": "python",
   "pygments_lexer": "ipython3",
   "version": "3.9.12"
  },
  "orig_nbformat": 4,
  "vscode": {
   "interpreter": {
    "hash": "ca9c90c9b299e3c35d28bc96236d8f2c0bd3d51256cb5ad616950692d4a1a879"
   }
  }
 },
 "nbformat": 4,
 "nbformat_minor": 2
}
